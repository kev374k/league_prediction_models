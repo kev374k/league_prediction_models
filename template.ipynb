{
 "cells": [
  {
   "cell_type": "markdown",
   "metadata": {},
   "source": [
    "# A League of Legends Competitive Analysis\n",
    "\n",
    "**Name(s)**: Kevin Wong, Andrew Yang\n",
    "\n",
    "**Website Link**: https://kev374k.github.io/lol_competitive_analysis/"
   ]
  },
  {
   "cell_type": "markdown",
   "metadata": {},
   "source": [
    "## Code"
   ]
  },
  {
   "cell_type": "code",
   "execution_count": 1,
   "metadata": {
    "ExecuteTime": {
     "end_time": "2019-10-31T23:36:28.652554Z",
     "start_time": "2019-10-31T23:36:27.180520Z"
    }
   },
   "outputs": [],
   "source": [
    "import pandas as pd\n",
    "import numpy as np\n",
    "import os\n",
    "\n",
    "import plotly.express as px\n",
    "pd.options.plotting.backend = 'plotly'"
   ]
  },
  {
   "cell_type": "markdown",
   "metadata": {},
   "source": [
    "### Baseline Model"
   ]
  },
  {
   "cell_type": "code",
   "execution_count": 2,
   "metadata": {
    "ExecuteTime": {
     "end_time": "2019-10-31T23:36:28.657068Z",
     "start_time": "2019-10-31T23:36:28.654650Z"
    }
   },
   "outputs": [
    {
     "name": "stderr",
     "output_type": "stream",
     "text": [
      "/Users/kevinwong/anaconda3/envs/dsc80/lib/python3.8/site-packages/IPython/core/interactiveshell.py:3505: DtypeWarning: Columns (2,76) have mixed types.Specify dtype option on import or set low_memory=False.\n",
      "  exec(code_obj, self.user_global_ns, self.user_ns)\n"
     ]
    },
    {
     "data": {
      "text/html": [
       "<div>\n",
       "<style scoped>\n",
       "    .dataframe tbody tr th:only-of-type {\n",
       "        vertical-align: middle;\n",
       "    }\n",
       "\n",
       "    .dataframe tbody tr th {\n",
       "        vertical-align: top;\n",
       "    }\n",
       "\n",
       "    .dataframe thead th {\n",
       "        text-align: right;\n",
       "    }\n",
       "</style>\n",
       "<table border=\"1\" class=\"dataframe\">\n",
       "  <thead>\n",
       "    <tr style=\"text-align: right;\">\n",
       "      <th></th>\n",
       "      <th>gameid</th>\n",
       "      <th>datacompleteness</th>\n",
       "      <th>url</th>\n",
       "      <th>league</th>\n",
       "      <th>year</th>\n",
       "      <th>split</th>\n",
       "      <th>playoffs</th>\n",
       "      <th>date</th>\n",
       "      <th>game</th>\n",
       "      <th>patch</th>\n",
       "      <th>...</th>\n",
       "      <th>opp_csat15</th>\n",
       "      <th>golddiffat15</th>\n",
       "      <th>xpdiffat15</th>\n",
       "      <th>csdiffat15</th>\n",
       "      <th>killsat15</th>\n",
       "      <th>assistsat15</th>\n",
       "      <th>deathsat15</th>\n",
       "      <th>opp_killsat15</th>\n",
       "      <th>opp_assistsat15</th>\n",
       "      <th>opp_deathsat15</th>\n",
       "    </tr>\n",
       "  </thead>\n",
       "  <tbody>\n",
       "    <tr>\n",
       "      <th>0</th>\n",
       "      <td>ESPORTSTMNT01_2690210</td>\n",
       "      <td>complete</td>\n",
       "      <td>NaN</td>\n",
       "      <td>LCKC</td>\n",
       "      <td>2022</td>\n",
       "      <td>Spring</td>\n",
       "      <td>0</td>\n",
       "      <td>2022-01-10 07:44:08</td>\n",
       "      <td>1</td>\n",
       "      <td>12.01</td>\n",
       "      <td>...</td>\n",
       "      <td>121.0</td>\n",
       "      <td>391.0</td>\n",
       "      <td>345.0</td>\n",
       "      <td>14.0</td>\n",
       "      <td>0.0</td>\n",
       "      <td>1.0</td>\n",
       "      <td>0.0</td>\n",
       "      <td>0.0</td>\n",
       "      <td>1.0</td>\n",
       "      <td>0.0</td>\n",
       "    </tr>\n",
       "    <tr>\n",
       "      <th>1</th>\n",
       "      <td>ESPORTSTMNT01_2690210</td>\n",
       "      <td>complete</td>\n",
       "      <td>NaN</td>\n",
       "      <td>LCKC</td>\n",
       "      <td>2022</td>\n",
       "      <td>Spring</td>\n",
       "      <td>0</td>\n",
       "      <td>2022-01-10 07:44:08</td>\n",
       "      <td>1</td>\n",
       "      <td>12.01</td>\n",
       "      <td>...</td>\n",
       "      <td>100.0</td>\n",
       "      <td>541.0</td>\n",
       "      <td>-275.0</td>\n",
       "      <td>-11.0</td>\n",
       "      <td>2.0</td>\n",
       "      <td>3.0</td>\n",
       "      <td>2.0</td>\n",
       "      <td>0.0</td>\n",
       "      <td>5.0</td>\n",
       "      <td>1.0</td>\n",
       "    </tr>\n",
       "    <tr>\n",
       "      <th>2</th>\n",
       "      <td>ESPORTSTMNT01_2690210</td>\n",
       "      <td>complete</td>\n",
       "      <td>NaN</td>\n",
       "      <td>LCKC</td>\n",
       "      <td>2022</td>\n",
       "      <td>Spring</td>\n",
       "      <td>0</td>\n",
       "      <td>2022-01-10 07:44:08</td>\n",
       "      <td>1</td>\n",
       "      <td>12.01</td>\n",
       "      <td>...</td>\n",
       "      <td>119.0</td>\n",
       "      <td>-475.0</td>\n",
       "      <td>153.0</td>\n",
       "      <td>1.0</td>\n",
       "      <td>0.0</td>\n",
       "      <td>3.0</td>\n",
       "      <td>0.0</td>\n",
       "      <td>3.0</td>\n",
       "      <td>3.0</td>\n",
       "      <td>2.0</td>\n",
       "    </tr>\n",
       "    <tr>\n",
       "      <th>3</th>\n",
       "      <td>ESPORTSTMNT01_2690210</td>\n",
       "      <td>complete</td>\n",
       "      <td>NaN</td>\n",
       "      <td>LCKC</td>\n",
       "      <td>2022</td>\n",
       "      <td>Spring</td>\n",
       "      <td>0</td>\n",
       "      <td>2022-01-10 07:44:08</td>\n",
       "      <td>1</td>\n",
       "      <td>12.01</td>\n",
       "      <td>...</td>\n",
       "      <td>149.0</td>\n",
       "      <td>-793.0</td>\n",
       "      <td>-1343.0</td>\n",
       "      <td>-34.0</td>\n",
       "      <td>2.0</td>\n",
       "      <td>1.0</td>\n",
       "      <td>2.0</td>\n",
       "      <td>3.0</td>\n",
       "      <td>3.0</td>\n",
       "      <td>0.0</td>\n",
       "    </tr>\n",
       "    <tr>\n",
       "      <th>4</th>\n",
       "      <td>ESPORTSTMNT01_2690210</td>\n",
       "      <td>complete</td>\n",
       "      <td>NaN</td>\n",
       "      <td>LCKC</td>\n",
       "      <td>2022</td>\n",
       "      <td>Spring</td>\n",
       "      <td>0</td>\n",
       "      <td>2022-01-10 07:44:08</td>\n",
       "      <td>1</td>\n",
       "      <td>12.01</td>\n",
       "      <td>...</td>\n",
       "      <td>21.0</td>\n",
       "      <td>443.0</td>\n",
       "      <td>-497.0</td>\n",
       "      <td>7.0</td>\n",
       "      <td>1.0</td>\n",
       "      <td>2.0</td>\n",
       "      <td>2.0</td>\n",
       "      <td>0.0</td>\n",
       "      <td>6.0</td>\n",
       "      <td>2.0</td>\n",
       "    </tr>\n",
       "    <tr>\n",
       "      <th>...</th>\n",
       "      <td>...</td>\n",
       "      <td>...</td>\n",
       "      <td>...</td>\n",
       "      <td>...</td>\n",
       "      <td>...</td>\n",
       "      <td>...</td>\n",
       "      <td>...</td>\n",
       "      <td>...</td>\n",
       "      <td>...</td>\n",
       "      <td>...</td>\n",
       "      <td>...</td>\n",
       "      <td>...</td>\n",
       "      <td>...</td>\n",
       "      <td>...</td>\n",
       "      <td>...</td>\n",
       "      <td>...</td>\n",
       "      <td>...</td>\n",
       "      <td>...</td>\n",
       "      <td>...</td>\n",
       "      <td>...</td>\n",
       "      <td>...</td>\n",
       "    </tr>\n",
       "    <tr>\n",
       "      <th>149395</th>\n",
       "      <td>9687-9687_game_5</td>\n",
       "      <td>partial</td>\n",
       "      <td>https://lpl.qq.com/es/stats.shtml?bmid=9687</td>\n",
       "      <td>DCup</td>\n",
       "      <td>2022</td>\n",
       "      <td>NaN</td>\n",
       "      <td>0</td>\n",
       "      <td>2022-12-27 12:43:43</td>\n",
       "      <td>5</td>\n",
       "      <td>12.23</td>\n",
       "      <td>...</td>\n",
       "      <td>NaN</td>\n",
       "      <td>NaN</td>\n",
       "      <td>NaN</td>\n",
       "      <td>NaN</td>\n",
       "      <td>NaN</td>\n",
       "      <td>NaN</td>\n",
       "      <td>NaN</td>\n",
       "      <td>NaN</td>\n",
       "      <td>NaN</td>\n",
       "      <td>NaN</td>\n",
       "    </tr>\n",
       "    <tr>\n",
       "      <th>149396</th>\n",
       "      <td>9687-9687_game_5</td>\n",
       "      <td>partial</td>\n",
       "      <td>https://lpl.qq.com/es/stats.shtml?bmid=9687</td>\n",
       "      <td>DCup</td>\n",
       "      <td>2022</td>\n",
       "      <td>NaN</td>\n",
       "      <td>0</td>\n",
       "      <td>2022-12-27 12:43:43</td>\n",
       "      <td>5</td>\n",
       "      <td>12.23</td>\n",
       "      <td>...</td>\n",
       "      <td>NaN</td>\n",
       "      <td>NaN</td>\n",
       "      <td>NaN</td>\n",
       "      <td>NaN</td>\n",
       "      <td>NaN</td>\n",
       "      <td>NaN</td>\n",
       "      <td>NaN</td>\n",
       "      <td>NaN</td>\n",
       "      <td>NaN</td>\n",
       "      <td>NaN</td>\n",
       "    </tr>\n",
       "    <tr>\n",
       "      <th>149397</th>\n",
       "      <td>9687-9687_game_5</td>\n",
       "      <td>partial</td>\n",
       "      <td>https://lpl.qq.com/es/stats.shtml?bmid=9687</td>\n",
       "      <td>DCup</td>\n",
       "      <td>2022</td>\n",
       "      <td>NaN</td>\n",
       "      <td>0</td>\n",
       "      <td>2022-12-27 12:43:43</td>\n",
       "      <td>5</td>\n",
       "      <td>12.23</td>\n",
       "      <td>...</td>\n",
       "      <td>NaN</td>\n",
       "      <td>NaN</td>\n",
       "      <td>NaN</td>\n",
       "      <td>NaN</td>\n",
       "      <td>NaN</td>\n",
       "      <td>NaN</td>\n",
       "      <td>NaN</td>\n",
       "      <td>NaN</td>\n",
       "      <td>NaN</td>\n",
       "      <td>NaN</td>\n",
       "    </tr>\n",
       "    <tr>\n",
       "      <th>149398</th>\n",
       "      <td>9687-9687_game_5</td>\n",
       "      <td>partial</td>\n",
       "      <td>https://lpl.qq.com/es/stats.shtml?bmid=9687</td>\n",
       "      <td>DCup</td>\n",
       "      <td>2022</td>\n",
       "      <td>NaN</td>\n",
       "      <td>0</td>\n",
       "      <td>2022-12-27 12:43:43</td>\n",
       "      <td>5</td>\n",
       "      <td>12.23</td>\n",
       "      <td>...</td>\n",
       "      <td>NaN</td>\n",
       "      <td>NaN</td>\n",
       "      <td>NaN</td>\n",
       "      <td>NaN</td>\n",
       "      <td>NaN</td>\n",
       "      <td>NaN</td>\n",
       "      <td>NaN</td>\n",
       "      <td>NaN</td>\n",
       "      <td>NaN</td>\n",
       "      <td>NaN</td>\n",
       "    </tr>\n",
       "    <tr>\n",
       "      <th>149399</th>\n",
       "      <td>9687-9687_game_5</td>\n",
       "      <td>partial</td>\n",
       "      <td>https://lpl.qq.com/es/stats.shtml?bmid=9687</td>\n",
       "      <td>DCup</td>\n",
       "      <td>2022</td>\n",
       "      <td>NaN</td>\n",
       "      <td>0</td>\n",
       "      <td>2022-12-27 12:43:43</td>\n",
       "      <td>5</td>\n",
       "      <td>12.23</td>\n",
       "      <td>...</td>\n",
       "      <td>NaN</td>\n",
       "      <td>NaN</td>\n",
       "      <td>NaN</td>\n",
       "      <td>NaN</td>\n",
       "      <td>NaN</td>\n",
       "      <td>NaN</td>\n",
       "      <td>NaN</td>\n",
       "      <td>NaN</td>\n",
       "      <td>NaN</td>\n",
       "      <td>NaN</td>\n",
       "    </tr>\n",
       "  </tbody>\n",
       "</table>\n",
       "<p>149400 rows × 123 columns</p>\n",
       "</div>"
      ],
      "text/plain": [
       "                       gameid datacompleteness  \\\n",
       "0       ESPORTSTMNT01_2690210         complete   \n",
       "1       ESPORTSTMNT01_2690210         complete   \n",
       "2       ESPORTSTMNT01_2690210         complete   \n",
       "3       ESPORTSTMNT01_2690210         complete   \n",
       "4       ESPORTSTMNT01_2690210         complete   \n",
       "...                       ...              ...   \n",
       "149395       9687-9687_game_5          partial   \n",
       "149396       9687-9687_game_5          partial   \n",
       "149397       9687-9687_game_5          partial   \n",
       "149398       9687-9687_game_5          partial   \n",
       "149399       9687-9687_game_5          partial   \n",
       "\n",
       "                                                url league  year   split  \\\n",
       "0                                               NaN   LCKC  2022  Spring   \n",
       "1                                               NaN   LCKC  2022  Spring   \n",
       "2                                               NaN   LCKC  2022  Spring   \n",
       "3                                               NaN   LCKC  2022  Spring   \n",
       "4                                               NaN   LCKC  2022  Spring   \n",
       "...                                             ...    ...   ...     ...   \n",
       "149395  https://lpl.qq.com/es/stats.shtml?bmid=9687   DCup  2022     NaN   \n",
       "149396  https://lpl.qq.com/es/stats.shtml?bmid=9687   DCup  2022     NaN   \n",
       "149397  https://lpl.qq.com/es/stats.shtml?bmid=9687   DCup  2022     NaN   \n",
       "149398  https://lpl.qq.com/es/stats.shtml?bmid=9687   DCup  2022     NaN   \n",
       "149399  https://lpl.qq.com/es/stats.shtml?bmid=9687   DCup  2022     NaN   \n",
       "\n",
       "        playoffs                 date  game  patch  ...  opp_csat15  \\\n",
       "0              0  2022-01-10 07:44:08     1  12.01  ...       121.0   \n",
       "1              0  2022-01-10 07:44:08     1  12.01  ...       100.0   \n",
       "2              0  2022-01-10 07:44:08     1  12.01  ...       119.0   \n",
       "3              0  2022-01-10 07:44:08     1  12.01  ...       149.0   \n",
       "4              0  2022-01-10 07:44:08     1  12.01  ...        21.0   \n",
       "...          ...                  ...   ...    ...  ...         ...   \n",
       "149395         0  2022-12-27 12:43:43     5  12.23  ...         NaN   \n",
       "149396         0  2022-12-27 12:43:43     5  12.23  ...         NaN   \n",
       "149397         0  2022-12-27 12:43:43     5  12.23  ...         NaN   \n",
       "149398         0  2022-12-27 12:43:43     5  12.23  ...         NaN   \n",
       "149399         0  2022-12-27 12:43:43     5  12.23  ...         NaN   \n",
       "\n",
       "       golddiffat15 xpdiffat15 csdiffat15 killsat15 assistsat15 deathsat15  \\\n",
       "0             391.0      345.0       14.0       0.0         1.0        0.0   \n",
       "1             541.0     -275.0      -11.0       2.0         3.0        2.0   \n",
       "2            -475.0      153.0        1.0       0.0         3.0        0.0   \n",
       "3            -793.0    -1343.0      -34.0       2.0         1.0        2.0   \n",
       "4             443.0     -497.0        7.0       1.0         2.0        2.0   \n",
       "...             ...        ...        ...       ...         ...        ...   \n",
       "149395          NaN        NaN        NaN       NaN         NaN        NaN   \n",
       "149396          NaN        NaN        NaN       NaN         NaN        NaN   \n",
       "149397          NaN        NaN        NaN       NaN         NaN        NaN   \n",
       "149398          NaN        NaN        NaN       NaN         NaN        NaN   \n",
       "149399          NaN        NaN        NaN       NaN         NaN        NaN   \n",
       "\n",
       "       opp_killsat15 opp_assistsat15 opp_deathsat15  \n",
       "0                0.0             1.0            0.0  \n",
       "1                0.0             5.0            1.0  \n",
       "2                3.0             3.0            2.0  \n",
       "3                3.0             3.0            0.0  \n",
       "4                0.0             6.0            2.0  \n",
       "...              ...             ...            ...  \n",
       "149395           NaN             NaN            NaN  \n",
       "149396           NaN             NaN            NaN  \n",
       "149397           NaN             NaN            NaN  \n",
       "149398           NaN             NaN            NaN  \n",
       "149399           NaN             NaN            NaN  \n",
       "\n",
       "[149400 rows x 123 columns]"
      ]
     },
     "execution_count": 2,
     "metadata": {},
     "output_type": "execute_result"
    }
   ],
   "source": [
    "df = pd.read_csv(\"2022_LoL_esports_match_data_from_OraclesElixir.csv\")\n",
    "df"
   ]
  },
  {
   "cell_type": "code",
   "execution_count": 34,
   "metadata": {},
   "outputs": [],
   "source": [
    "# cleaning data: converts columns 'datacompleteness', 'playoffs', 'result'\n",
    "# we then get the columns that are needed for our hypothesis\n",
    "# Code is from our league of legends competitive analysis\n",
    "\n",
    "cleaned_data = df.assign(\n",
    "    datacompleteness = df['datacompleteness'].apply(lambda x: True if x == \"complete\" else False),\n",
    "    playoffs = df['playoffs'].apply(lambda x: True if x == 1 else False),\n",
    "    result = df['result'].apply(lambda x: True if x == 1 else False)\n",
    "    ).loc[\n",
    "        :, ['result', 'gameid', 'datacompleteness', 'playoffs', 'side', 'position', 'kills', 'deaths', 'assists', 'doublekills', 'triplekills', 'quadrakills', 'pentakills', 'champion', 'gamelength', 'cspm', 'dragons', 'barons', 'dpm', 'wpm', 'vspm']\n",
    "    ].fillna(0)"
   ]
  },
  {
   "cell_type": "code",
   "execution_count": 35,
   "metadata": {},
   "outputs": [],
   "source": [
    "cleaned_data = cleaned_data[cleaned_data['datacompleteness'] == True]"
   ]
  },
  {
   "cell_type": "code",
   "execution_count": 36,
   "metadata": {},
   "outputs": [
    {
     "data": {
      "text/html": [
       "<div>\n",
       "<style scoped>\n",
       "    .dataframe tbody tr th:only-of-type {\n",
       "        vertical-align: middle;\n",
       "    }\n",
       "\n",
       "    .dataframe tbody tr th {\n",
       "        vertical-align: top;\n",
       "    }\n",
       "\n",
       "    .dataframe thead th {\n",
       "        text-align: right;\n",
       "    }\n",
       "</style>\n",
       "<table border=\"1\" class=\"dataframe\">\n",
       "  <thead>\n",
       "    <tr style=\"text-align: right;\">\n",
       "      <th></th>\n",
       "      <th>result</th>\n",
       "      <th>gameid</th>\n",
       "      <th>datacompleteness</th>\n",
       "      <th>playoffs</th>\n",
       "      <th>side</th>\n",
       "      <th>position</th>\n",
       "      <th>kills</th>\n",
       "      <th>deaths</th>\n",
       "      <th>assists</th>\n",
       "      <th>doublekills</th>\n",
       "      <th>...</th>\n",
       "      <th>quadrakills</th>\n",
       "      <th>pentakills</th>\n",
       "      <th>champion</th>\n",
       "      <th>gamelength</th>\n",
       "      <th>cspm</th>\n",
       "      <th>dragons</th>\n",
       "      <th>barons</th>\n",
       "      <th>dpm</th>\n",
       "      <th>wpm</th>\n",
       "      <th>vspm</th>\n",
       "    </tr>\n",
       "  </thead>\n",
       "  <tbody>\n",
       "    <tr>\n",
       "      <th>0</th>\n",
       "      <td>False</td>\n",
       "      <td>ESPORTSTMNT01_2690210</td>\n",
       "      <td>True</td>\n",
       "      <td>False</td>\n",
       "      <td>Blue</td>\n",
       "      <td>top</td>\n",
       "      <td>2</td>\n",
       "      <td>3</td>\n",
       "      <td>2</td>\n",
       "      <td>0.0</td>\n",
       "      <td>...</td>\n",
       "      <td>0.0</td>\n",
       "      <td>0.0</td>\n",
       "      <td>Renekton</td>\n",
       "      <td>1713</td>\n",
       "      <td>8.0911</td>\n",
       "      <td>0.0</td>\n",
       "      <td>0.0</td>\n",
       "      <td>552.2942</td>\n",
       "      <td>0.2802</td>\n",
       "      <td>0.9107</td>\n",
       "    </tr>\n",
       "    <tr>\n",
       "      <th>1</th>\n",
       "      <td>False</td>\n",
       "      <td>ESPORTSTMNT01_2690210</td>\n",
       "      <td>True</td>\n",
       "      <td>False</td>\n",
       "      <td>Blue</td>\n",
       "      <td>jng</td>\n",
       "      <td>2</td>\n",
       "      <td>5</td>\n",
       "      <td>6</td>\n",
       "      <td>0.0</td>\n",
       "      <td>...</td>\n",
       "      <td>0.0</td>\n",
       "      <td>0.0</td>\n",
       "      <td>Xin Zhao</td>\n",
       "      <td>1713</td>\n",
       "      <td>5.1839</td>\n",
       "      <td>0.0</td>\n",
       "      <td>0.0</td>\n",
       "      <td>412.0841</td>\n",
       "      <td>0.2102</td>\n",
       "      <td>1.6813</td>\n",
       "    </tr>\n",
       "    <tr>\n",
       "      <th>2</th>\n",
       "      <td>False</td>\n",
       "      <td>ESPORTSTMNT01_2690210</td>\n",
       "      <td>True</td>\n",
       "      <td>False</td>\n",
       "      <td>Blue</td>\n",
       "      <td>mid</td>\n",
       "      <td>2</td>\n",
       "      <td>2</td>\n",
       "      <td>3</td>\n",
       "      <td>0.0</td>\n",
       "      <td>...</td>\n",
       "      <td>0.0</td>\n",
       "      <td>0.0</td>\n",
       "      <td>LeBlanc</td>\n",
       "      <td>1713</td>\n",
       "      <td>6.7601</td>\n",
       "      <td>0.0</td>\n",
       "      <td>0.0</td>\n",
       "      <td>499.4046</td>\n",
       "      <td>0.6655</td>\n",
       "      <td>1.0158</td>\n",
       "    </tr>\n",
       "    <tr>\n",
       "      <th>3</th>\n",
       "      <td>False</td>\n",
       "      <td>ESPORTSTMNT01_2690210</td>\n",
       "      <td>True</td>\n",
       "      <td>False</td>\n",
       "      <td>Blue</td>\n",
       "      <td>bot</td>\n",
       "      <td>2</td>\n",
       "      <td>4</td>\n",
       "      <td>2</td>\n",
       "      <td>0.0</td>\n",
       "      <td>...</td>\n",
       "      <td>0.0</td>\n",
       "      <td>0.0</td>\n",
       "      <td>Samira</td>\n",
       "      <td>1713</td>\n",
       "      <td>7.9159</td>\n",
       "      <td>0.0</td>\n",
       "      <td>0.0</td>\n",
       "      <td>389.0018</td>\n",
       "      <td>0.4203</td>\n",
       "      <td>0.8757</td>\n",
       "    </tr>\n",
       "    <tr>\n",
       "      <th>4</th>\n",
       "      <td>False</td>\n",
       "      <td>ESPORTSTMNT01_2690210</td>\n",
       "      <td>True</td>\n",
       "      <td>False</td>\n",
       "      <td>Blue</td>\n",
       "      <td>sup</td>\n",
       "      <td>1</td>\n",
       "      <td>5</td>\n",
       "      <td>6</td>\n",
       "      <td>0.0</td>\n",
       "      <td>...</td>\n",
       "      <td>0.0</td>\n",
       "      <td>0.0</td>\n",
       "      <td>Leona</td>\n",
       "      <td>1713</td>\n",
       "      <td>1.4711</td>\n",
       "      <td>0.0</td>\n",
       "      <td>0.0</td>\n",
       "      <td>128.3012</td>\n",
       "      <td>1.0158</td>\n",
       "      <td>2.4168</td>\n",
       "    </tr>\n",
       "    <tr>\n",
       "      <th>5</th>\n",
       "      <td>True</td>\n",
       "      <td>ESPORTSTMNT01_2690210</td>\n",
       "      <td>True</td>\n",
       "      <td>False</td>\n",
       "      <td>Red</td>\n",
       "      <td>top</td>\n",
       "      <td>1</td>\n",
       "      <td>1</td>\n",
       "      <td>12</td>\n",
       "      <td>0.0</td>\n",
       "      <td>...</td>\n",
       "      <td>0.0</td>\n",
       "      <td>0.0</td>\n",
       "      <td>Gragas</td>\n",
       "      <td>1713</td>\n",
       "      <td>8.0210</td>\n",
       "      <td>0.0</td>\n",
       "      <td>0.0</td>\n",
       "      <td>611.3835</td>\n",
       "      <td>0.5254</td>\n",
       "      <td>1.0508</td>\n",
       "    </tr>\n",
       "    <tr>\n",
       "      <th>6</th>\n",
       "      <td>True</td>\n",
       "      <td>ESPORTSTMNT01_2690210</td>\n",
       "      <td>True</td>\n",
       "      <td>False</td>\n",
       "      <td>Red</td>\n",
       "      <td>jng</td>\n",
       "      <td>4</td>\n",
       "      <td>1</td>\n",
       "      <td>10</td>\n",
       "      <td>1.0</td>\n",
       "      <td>...</td>\n",
       "      <td>0.0</td>\n",
       "      <td>0.0</td>\n",
       "      <td>Viego</td>\n",
       "      <td>1713</td>\n",
       "      <td>6.4098</td>\n",
       "      <td>0.0</td>\n",
       "      <td>0.0</td>\n",
       "      <td>370.0175</td>\n",
       "      <td>0.2802</td>\n",
       "      <td>1.3660</td>\n",
       "    </tr>\n",
       "    <tr>\n",
       "      <th>7</th>\n",
       "      <td>True</td>\n",
       "      <td>ESPORTSTMNT01_2690210</td>\n",
       "      <td>True</td>\n",
       "      <td>False</td>\n",
       "      <td>Red</td>\n",
       "      <td>mid</td>\n",
       "      <td>6</td>\n",
       "      <td>3</td>\n",
       "      <td>12</td>\n",
       "      <td>2.0</td>\n",
       "      <td>...</td>\n",
       "      <td>0.0</td>\n",
       "      <td>0.0</td>\n",
       "      <td>Viktor</td>\n",
       "      <td>1713</td>\n",
       "      <td>7.5657</td>\n",
       "      <td>0.0</td>\n",
       "      <td>0.0</td>\n",
       "      <td>724.6935</td>\n",
       "      <td>0.5254</td>\n",
       "      <td>1.0158</td>\n",
       "    </tr>\n",
       "    <tr>\n",
       "      <th>8</th>\n",
       "      <td>True</td>\n",
       "      <td>ESPORTSTMNT01_2690210</td>\n",
       "      <td>True</td>\n",
       "      <td>False</td>\n",
       "      <td>Red</td>\n",
       "      <td>bot</td>\n",
       "      <td>8</td>\n",
       "      <td>2</td>\n",
       "      <td>10</td>\n",
       "      <td>3.0</td>\n",
       "      <td>...</td>\n",
       "      <td>0.0</td>\n",
       "      <td>0.0</td>\n",
       "      <td>Jinx</td>\n",
       "      <td>1713</td>\n",
       "      <td>11.1734</td>\n",
       "      <td>0.0</td>\n",
       "      <td>0.0</td>\n",
       "      <td>934.7461</td>\n",
       "      <td>0.3152</td>\n",
       "      <td>1.4011</td>\n",
       "    </tr>\n",
       "    <tr>\n",
       "      <th>9</th>\n",
       "      <td>True</td>\n",
       "      <td>ESPORTSTMNT01_2690210</td>\n",
       "      <td>True</td>\n",
       "      <td>False</td>\n",
       "      <td>Red</td>\n",
       "      <td>sup</td>\n",
       "      <td>0</td>\n",
       "      <td>2</td>\n",
       "      <td>18</td>\n",
       "      <td>0.0</td>\n",
       "      <td>...</td>\n",
       "      <td>0.0</td>\n",
       "      <td>0.0</td>\n",
       "      <td>Alistar</td>\n",
       "      <td>1713</td>\n",
       "      <td>1.0158</td>\n",
       "      <td>0.0</td>\n",
       "      <td>0.0</td>\n",
       "      <td>158.1786</td>\n",
       "      <td>1.6112</td>\n",
       "      <td>2.3468</td>\n",
       "    </tr>\n",
       "    <tr>\n",
       "      <th>10</th>\n",
       "      <td>False</td>\n",
       "      <td>ESPORTSTMNT01_2690210</td>\n",
       "      <td>True</td>\n",
       "      <td>False</td>\n",
       "      <td>Blue</td>\n",
       "      <td>team</td>\n",
       "      <td>9</td>\n",
       "      <td>19</td>\n",
       "      <td>19</td>\n",
       "      <td>0.0</td>\n",
       "      <td>...</td>\n",
       "      <td>0.0</td>\n",
       "      <td>0.0</td>\n",
       "      <td>0</td>\n",
       "      <td>1713</td>\n",
       "      <td>29.4221</td>\n",
       "      <td>1.0</td>\n",
       "      <td>0.0</td>\n",
       "      <td>1981.0858</td>\n",
       "      <td>2.5919</td>\n",
       "      <td>6.9002</td>\n",
       "    </tr>\n",
       "    <tr>\n",
       "      <th>11</th>\n",
       "      <td>True</td>\n",
       "      <td>ESPORTSTMNT01_2690210</td>\n",
       "      <td>True</td>\n",
       "      <td>False</td>\n",
       "      <td>Red</td>\n",
       "      <td>team</td>\n",
       "      <td>19</td>\n",
       "      <td>9</td>\n",
       "      <td>62</td>\n",
       "      <td>6.0</td>\n",
       "      <td>...</td>\n",
       "      <td>0.0</td>\n",
       "      <td>0.0</td>\n",
       "      <td>0</td>\n",
       "      <td>1713</td>\n",
       "      <td>34.1856</td>\n",
       "      <td>3.0</td>\n",
       "      <td>0.0</td>\n",
       "      <td>2799.0193</td>\n",
       "      <td>3.2574</td>\n",
       "      <td>7.1804</td>\n",
       "    </tr>\n",
       "  </tbody>\n",
       "</table>\n",
       "<p>12 rows × 21 columns</p>\n",
       "</div>"
      ],
      "text/plain": [
       "    result                 gameid  datacompleteness  playoffs  side position  \\\n",
       "0    False  ESPORTSTMNT01_2690210              True     False  Blue      top   \n",
       "1    False  ESPORTSTMNT01_2690210              True     False  Blue      jng   \n",
       "2    False  ESPORTSTMNT01_2690210              True     False  Blue      mid   \n",
       "3    False  ESPORTSTMNT01_2690210              True     False  Blue      bot   \n",
       "4    False  ESPORTSTMNT01_2690210              True     False  Blue      sup   \n",
       "5     True  ESPORTSTMNT01_2690210              True     False   Red      top   \n",
       "6     True  ESPORTSTMNT01_2690210              True     False   Red      jng   \n",
       "7     True  ESPORTSTMNT01_2690210              True     False   Red      mid   \n",
       "8     True  ESPORTSTMNT01_2690210              True     False   Red      bot   \n",
       "9     True  ESPORTSTMNT01_2690210              True     False   Red      sup   \n",
       "10   False  ESPORTSTMNT01_2690210              True     False  Blue     team   \n",
       "11    True  ESPORTSTMNT01_2690210              True     False   Red     team   \n",
       "\n",
       "    kills  deaths  assists  doublekills  ...  quadrakills  pentakills  \\\n",
       "0       2       3        2          0.0  ...          0.0         0.0   \n",
       "1       2       5        6          0.0  ...          0.0         0.0   \n",
       "2       2       2        3          0.0  ...          0.0         0.0   \n",
       "3       2       4        2          0.0  ...          0.0         0.0   \n",
       "4       1       5        6          0.0  ...          0.0         0.0   \n",
       "5       1       1       12          0.0  ...          0.0         0.0   \n",
       "6       4       1       10          1.0  ...          0.0         0.0   \n",
       "7       6       3       12          2.0  ...          0.0         0.0   \n",
       "8       8       2       10          3.0  ...          0.0         0.0   \n",
       "9       0       2       18          0.0  ...          0.0         0.0   \n",
       "10      9      19       19          0.0  ...          0.0         0.0   \n",
       "11     19       9       62          6.0  ...          0.0         0.0   \n",
       "\n",
       "    champion gamelength     cspm  dragons  barons        dpm     wpm    vspm  \n",
       "0   Renekton       1713   8.0911      0.0     0.0   552.2942  0.2802  0.9107  \n",
       "1   Xin Zhao       1713   5.1839      0.0     0.0   412.0841  0.2102  1.6813  \n",
       "2    LeBlanc       1713   6.7601      0.0     0.0   499.4046  0.6655  1.0158  \n",
       "3     Samira       1713   7.9159      0.0     0.0   389.0018  0.4203  0.8757  \n",
       "4      Leona       1713   1.4711      0.0     0.0   128.3012  1.0158  2.4168  \n",
       "5     Gragas       1713   8.0210      0.0     0.0   611.3835  0.5254  1.0508  \n",
       "6      Viego       1713   6.4098      0.0     0.0   370.0175  0.2802  1.3660  \n",
       "7     Viktor       1713   7.5657      0.0     0.0   724.6935  0.5254  1.0158  \n",
       "8       Jinx       1713  11.1734      0.0     0.0   934.7461  0.3152  1.4011  \n",
       "9    Alistar       1713   1.0158      0.0     0.0   158.1786  1.6112  2.3468  \n",
       "10         0       1713  29.4221      1.0     0.0  1981.0858  2.5919  6.9002  \n",
       "11         0       1713  34.1856      3.0     0.0  2799.0193  3.2574  7.1804  \n",
       "\n",
       "[12 rows x 21 columns]"
      ]
     },
     "execution_count": 36,
     "metadata": {},
     "output_type": "execute_result"
    }
   ],
   "source": [
    "cleaned_data.head(12)"
   ]
  },
  {
   "cell_type": "markdown",
   "metadata": {},
   "source": [
    "### Baseline Model"
   ]
  },
  {
   "cell_type": "markdown",
   "metadata": {},
   "source": [
    "Train a “baseline model” for your prediction task that uses at least two features. (For this requirement, two features means selecting at least two columns from your original dataset that you should transform). You can leave numerical features as-is, but you’ll need to take care of categorical columns using an appropriate encoding. Implement all steps (feature transforms and model training) in a single sklearn Pipeline.\n",
    "\n",
    "Note: Both now and in Final Model Step, make sure to evaluate your model’s ability to generalize to unseen data!\n",
    "\n",
    "There is no “required” performance metric that your baseline model needs to achieve."
   ]
  },
  {
   "cell_type": "code",
   "execution_count": 30,
   "metadata": {},
   "outputs": [],
   "source": [
    "from sklearn.model_selection import train_test_split\n",
    "from sklearn.linear_model import LogisticRegression\n",
    "from sklearn.pipeline import Pipeline\n",
    "from sklearn.preprocessing import OneHotEncoder, StandardScaler, FunctionTransformer\n",
    "from sklearn.compose import ColumnTransformer\n"
   ]
  },
  {
   "cell_type": "code",
   "execution_count": 48,
   "metadata": {},
   "outputs": [],
   "source": [
    "train_X, test_X, train_y, test_y = train_test_split(cleaned_data, cleaned_data['result'])"
   ]
  },
  {
   "cell_type": "code",
   "execution_count": 49,
   "metadata": {},
   "outputs": [],
   "source": [
    "column_transformer = ColumnTransformer([\n",
    "    ('side', OneHotEncoder(), ['side']),\n",
    "    ('kills', FunctionTransformer(), ['kills']),\n",
    "    ('deaths', FunctionTransformer(), ['deaths']),\n",
    "    ('assists', FunctionTransformer(), ['assists']),\n",
    "    ('cspm', FunctionTransformer(), ['cspm']),\n",
    "    ('dragons', FunctionTransformer(), ['dragons']),\n",
    "    ('barons', FunctionTransformer(), ['barons'])\n",
    "])\n",
    "\n",
    "pipeline = Pipeline([\n",
    "    ('columns', column_transformer),\n",
    "    ('log-reg', LogisticRegression()),\n",
    "])"
   ]
  },
  {
   "cell_type": "code",
   "execution_count": 51,
   "metadata": {},
   "outputs": [],
   "source": [
    "pipeline.fit(train_X, train_y)\n",
    "predictions = pipeline.predict(test_X)"
   ]
  },
  {
   "cell_type": "code",
   "execution_count": 52,
   "metadata": {},
   "outputs": [
    {
     "data": {
      "text/plain": [
       "0.8846383929977016"
      ]
     },
     "execution_count": 52,
     "metadata": {},
     "output_type": "execute_result"
    }
   ],
   "source": [
    "baseline_performance = np.mean(predictions == test_y)\n",
    "baseline_performance"
   ]
  },
  {
   "cell_type": "markdown",
   "metadata": {},
   "source": [
    "### Final Model"
   ]
  },
  {
   "cell_type": "markdown",
   "metadata": {},
   "source": [
    "### Assessment of Missingness"
   ]
  },
  {
   "cell_type": "code",
   "execution_count": 17,
   "metadata": {
    "ExecuteTime": {
     "end_time": "2019-10-31T23:36:28.662099Z",
     "start_time": "2019-10-31T23:36:28.660016Z"
    }
   },
   "outputs": [
    {
     "data": {
      "text/html": [
       "<div>\n",
       "<style scoped>\n",
       "    .dataframe tbody tr th:only-of-type {\n",
       "        vertical-align: middle;\n",
       "    }\n",
       "\n",
       "    .dataframe tbody tr th {\n",
       "        vertical-align: top;\n",
       "    }\n",
       "\n",
       "    .dataframe thead th {\n",
       "        text-align: right;\n",
       "    }\n",
       "</style>\n",
       "<table border=\"1\" class=\"dataframe\">\n",
       "  <thead>\n",
       "    <tr style=\"text-align: right;\">\n",
       "      <th></th>\n",
       "      <th>firstdragon</th>\n",
       "      <th>dragons</th>\n",
       "      <th>opp_dragons</th>\n",
       "      <th>elementaldrakes</th>\n",
       "      <th>opp_elementaldrakes</th>\n",
       "      <th>infernals</th>\n",
       "      <th>mountains</th>\n",
       "      <th>clouds</th>\n",
       "      <th>oceans</th>\n",
       "      <th>chemtechs</th>\n",
       "    </tr>\n",
       "  </thead>\n",
       "  <tbody>\n",
       "    <tr>\n",
       "      <th>0</th>\n",
       "      <td>128138</td>\n",
       "      <td>124500</td>\n",
       "      <td>124500</td>\n",
       "      <td>128226</td>\n",
       "      <td>128226</td>\n",
       "      <td>128138</td>\n",
       "      <td>128138</td>\n",
       "      <td>128138</td>\n",
       "      <td>128138</td>\n",
       "      <td>128226</td>\n",
       "    </tr>\n",
       "  </tbody>\n",
       "</table>\n",
       "</div>"
      ],
      "text/plain": [
       "   firstdragon  dragons  opp_dragons  elementaldrakes  opp_elementaldrakes  \\\n",
       "0       128138   124500       124500           128226               128226   \n",
       "\n",
       "   infernals  mountains  clouds  oceans  chemtechs  \n",
       "0     128138     128138  128138  128138     128226  "
      ]
     },
     "execution_count": 17,
     "metadata": {},
     "output_type": "execute_result"
    }
   ],
   "source": [
    "# To assess missingness, we want to analyze what is actually missing\n",
    "missing_data = pd.DataFrame(df.isnull().sum()).T\n",
    "missing_data.iloc[:, 40:50]"
   ]
  },
  {
   "cell_type": "code",
   "execution_count": 18,
   "metadata": {},
   "outputs": [
    {
     "data": {
      "text/html": [
       "<div>\n",
       "<style scoped>\n",
       "    .dataframe tbody tr th:only-of-type {\n",
       "        vertical-align: middle;\n",
       "    }\n",
       "\n",
       "    .dataframe tbody tr th {\n",
       "        vertical-align: top;\n",
       "    }\n",
       "\n",
       "    .dataframe thead th {\n",
       "        text-align: right;\n",
       "    }\n",
       "</style>\n",
       "<table border=\"1\" class=\"dataframe\">\n",
       "  <thead>\n",
       "    <tr style=\"text-align: right;\">\n",
       "      <th></th>\n",
       "      <th>league</th>\n",
       "      <th>split</th>\n",
       "      <th>playoffs</th>\n",
       "      <th>patch</th>\n",
       "      <th>position</th>\n",
       "    </tr>\n",
       "  </thead>\n",
       "  <tbody>\n",
       "    <tr>\n",
       "      <th>24</th>\n",
       "      <td>LPL</td>\n",
       "      <td>Spring</td>\n",
       "      <td>0</td>\n",
       "      <td>12.01</td>\n",
       "      <td>top</td>\n",
       "    </tr>\n",
       "    <tr>\n",
       "      <th>25</th>\n",
       "      <td>LPL</td>\n",
       "      <td>Spring</td>\n",
       "      <td>0</td>\n",
       "      <td>12.01</td>\n",
       "      <td>jng</td>\n",
       "    </tr>\n",
       "    <tr>\n",
       "      <th>26</th>\n",
       "      <td>LPL</td>\n",
       "      <td>Spring</td>\n",
       "      <td>0</td>\n",
       "      <td>12.01</td>\n",
       "      <td>mid</td>\n",
       "    </tr>\n",
       "    <tr>\n",
       "      <th>27</th>\n",
       "      <td>LPL</td>\n",
       "      <td>Spring</td>\n",
       "      <td>0</td>\n",
       "      <td>12.01</td>\n",
       "      <td>bot</td>\n",
       "    </tr>\n",
       "    <tr>\n",
       "      <th>28</th>\n",
       "      <td>LPL</td>\n",
       "      <td>Spring</td>\n",
       "      <td>0</td>\n",
       "      <td>12.01</td>\n",
       "      <td>sup</td>\n",
       "    </tr>\n",
       "    <tr>\n",
       "      <th>...</th>\n",
       "      <td>...</td>\n",
       "      <td>...</td>\n",
       "      <td>...</td>\n",
       "      <td>...</td>\n",
       "      <td>...</td>\n",
       "    </tr>\n",
       "    <tr>\n",
       "      <th>149395</th>\n",
       "      <td>DCup</td>\n",
       "      <td>NaN</td>\n",
       "      <td>0</td>\n",
       "      <td>12.23</td>\n",
       "      <td>mid</td>\n",
       "    </tr>\n",
       "    <tr>\n",
       "      <th>149396</th>\n",
       "      <td>DCup</td>\n",
       "      <td>NaN</td>\n",
       "      <td>0</td>\n",
       "      <td>12.23</td>\n",
       "      <td>bot</td>\n",
       "    </tr>\n",
       "    <tr>\n",
       "      <th>149397</th>\n",
       "      <td>DCup</td>\n",
       "      <td>NaN</td>\n",
       "      <td>0</td>\n",
       "      <td>12.23</td>\n",
       "      <td>sup</td>\n",
       "    </tr>\n",
       "    <tr>\n",
       "      <th>149398</th>\n",
       "      <td>DCup</td>\n",
       "      <td>NaN</td>\n",
       "      <td>0</td>\n",
       "      <td>12.23</td>\n",
       "      <td>team</td>\n",
       "    </tr>\n",
       "    <tr>\n",
       "      <th>149399</th>\n",
       "      <td>DCup</td>\n",
       "      <td>NaN</td>\n",
       "      <td>0</td>\n",
       "      <td>12.23</td>\n",
       "      <td>team</td>\n",
       "    </tr>\n",
       "  </tbody>\n",
       "</table>\n",
       "<p>21828 rows × 5 columns</p>\n",
       "</div>"
      ],
      "text/plain": [
       "       league   split  playoffs  patch position\n",
       "24        LPL  Spring         0  12.01      top\n",
       "25        LPL  Spring         0  12.01      jng\n",
       "26        LPL  Spring         0  12.01      mid\n",
       "27        LPL  Spring         0  12.01      bot\n",
       "28        LPL  Spring         0  12.01      sup\n",
       "...       ...     ...       ...    ...      ...\n",
       "149395   DCup     NaN         0  12.23      mid\n",
       "149396   DCup     NaN         0  12.23      bot\n",
       "149397   DCup     NaN         0  12.23      sup\n",
       "149398   DCup     NaN         0  12.23     team\n",
       "149399   DCup     NaN         0  12.23     team\n",
       "\n",
       "[21828 rows x 5 columns]"
      ]
     },
     "execution_count": 18,
     "metadata": {},
     "output_type": "execute_result"
    }
   ],
   "source": [
    "# We've seen that a lot of out data is missing, especially near the end of the data; specifically, \n",
    "# things like 'opp_csat15', 'golddiffat15', and more are missing. In this case, we want to test if there's\n",
    "# a specific reason why this data may be missing; \n",
    "missing_important_data = df[df['opp_csat15'].isnull()]\n",
    "\n",
    "# Here, we want to get rid of unnecessary columns that won't be needed for both a permutation test and\n",
    "# one's that have mostly unique columns, because otherwise we won't be able to compare distributions easily\n",
    "missing_important_data = missing_important_data.loc[:, ['league', 'split', 'playoffs', 'patch', 'position']]\n",
    "missing_important_data"
   ]
  },
  {
   "cell_type": "code",
   "execution_count": 28,
   "metadata": {},
   "outputs": [
    {
     "data": {
      "application/vnd.plotly.v1+json": {
       "config": {
        "plotlyServerURL": "https://plot.ly"
       },
       "data": [
        {
         "alignmentgroup": "True",
         "hovertemplate": "variable=playoffs<br>league=%{x}<br>value=%{y}<extra></extra>",
         "legendgroup": "playoffs",
         "marker": {
          "color": "#636efa",
          "pattern": {
           "shape": ""
          }
         },
         "name": "playoffs",
         "offsetgroup": "playoffs",
         "orientation": "v",
         "showlegend": true,
         "textposition": "auto",
         "type": "bar",
         "x": [
          "DCup",
          "LDL",
          "LPL",
          "WLDs"
         ],
         "xaxis": "x",
         "y": [
          0.04233095107201759,
          0.5178669598680594,
          0.4321055525013744,
          0.007696536558548653
         ],
         "yaxis": "y"
        }
       ],
       "layout": {
        "barmode": "relative",
        "legend": {
         "title": {
          "text": "variable"
         },
         "tracegroupgap": 0
        },
        "template": {
         "data": {
          "bar": [
           {
            "error_x": {
             "color": "#2a3f5f"
            },
            "error_y": {
             "color": "#2a3f5f"
            },
            "marker": {
             "line": {
              "color": "#E5ECF6",
              "width": 0.5
             },
             "pattern": {
              "fillmode": "overlay",
              "size": 10,
              "solidity": 0.2
             }
            },
            "type": "bar"
           }
          ],
          "barpolar": [
           {
            "marker": {
             "line": {
              "color": "#E5ECF6",
              "width": 0.5
             },
             "pattern": {
              "fillmode": "overlay",
              "size": 10,
              "solidity": 0.2
             }
            },
            "type": "barpolar"
           }
          ],
          "carpet": [
           {
            "aaxis": {
             "endlinecolor": "#2a3f5f",
             "gridcolor": "white",
             "linecolor": "white",
             "minorgridcolor": "white",
             "startlinecolor": "#2a3f5f"
            },
            "baxis": {
             "endlinecolor": "#2a3f5f",
             "gridcolor": "white",
             "linecolor": "white",
             "minorgridcolor": "white",
             "startlinecolor": "#2a3f5f"
            },
            "type": "carpet"
           }
          ],
          "choropleth": [
           {
            "colorbar": {
             "outlinewidth": 0,
             "ticks": ""
            },
            "type": "choropleth"
           }
          ],
          "contour": [
           {
            "colorbar": {
             "outlinewidth": 0,
             "ticks": ""
            },
            "colorscale": [
             [
              0,
              "#0d0887"
             ],
             [
              0.1111111111111111,
              "#46039f"
             ],
             [
              0.2222222222222222,
              "#7201a8"
             ],
             [
              0.3333333333333333,
              "#9c179e"
             ],
             [
              0.4444444444444444,
              "#bd3786"
             ],
             [
              0.5555555555555556,
              "#d8576b"
             ],
             [
              0.6666666666666666,
              "#ed7953"
             ],
             [
              0.7777777777777778,
              "#fb9f3a"
             ],
             [
              0.8888888888888888,
              "#fdca26"
             ],
             [
              1,
              "#f0f921"
             ]
            ],
            "type": "contour"
           }
          ],
          "contourcarpet": [
           {
            "colorbar": {
             "outlinewidth": 0,
             "ticks": ""
            },
            "type": "contourcarpet"
           }
          ],
          "heatmap": [
           {
            "colorbar": {
             "outlinewidth": 0,
             "ticks": ""
            },
            "colorscale": [
             [
              0,
              "#0d0887"
             ],
             [
              0.1111111111111111,
              "#46039f"
             ],
             [
              0.2222222222222222,
              "#7201a8"
             ],
             [
              0.3333333333333333,
              "#9c179e"
             ],
             [
              0.4444444444444444,
              "#bd3786"
             ],
             [
              0.5555555555555556,
              "#d8576b"
             ],
             [
              0.6666666666666666,
              "#ed7953"
             ],
             [
              0.7777777777777778,
              "#fb9f3a"
             ],
             [
              0.8888888888888888,
              "#fdca26"
             ],
             [
              1,
              "#f0f921"
             ]
            ],
            "type": "heatmap"
           }
          ],
          "heatmapgl": [
           {
            "colorbar": {
             "outlinewidth": 0,
             "ticks": ""
            },
            "colorscale": [
             [
              0,
              "#0d0887"
             ],
             [
              0.1111111111111111,
              "#46039f"
             ],
             [
              0.2222222222222222,
              "#7201a8"
             ],
             [
              0.3333333333333333,
              "#9c179e"
             ],
             [
              0.4444444444444444,
              "#bd3786"
             ],
             [
              0.5555555555555556,
              "#d8576b"
             ],
             [
              0.6666666666666666,
              "#ed7953"
             ],
             [
              0.7777777777777778,
              "#fb9f3a"
             ],
             [
              0.8888888888888888,
              "#fdca26"
             ],
             [
              1,
              "#f0f921"
             ]
            ],
            "type": "heatmapgl"
           }
          ],
          "histogram": [
           {
            "marker": {
             "pattern": {
              "fillmode": "overlay",
              "size": 10,
              "solidity": 0.2
             }
            },
            "type": "histogram"
           }
          ],
          "histogram2d": [
           {
            "colorbar": {
             "outlinewidth": 0,
             "ticks": ""
            },
            "colorscale": [
             [
              0,
              "#0d0887"
             ],
             [
              0.1111111111111111,
              "#46039f"
             ],
             [
              0.2222222222222222,
              "#7201a8"
             ],
             [
              0.3333333333333333,
              "#9c179e"
             ],
             [
              0.4444444444444444,
              "#bd3786"
             ],
             [
              0.5555555555555556,
              "#d8576b"
             ],
             [
              0.6666666666666666,
              "#ed7953"
             ],
             [
              0.7777777777777778,
              "#fb9f3a"
             ],
             [
              0.8888888888888888,
              "#fdca26"
             ],
             [
              1,
              "#f0f921"
             ]
            ],
            "type": "histogram2d"
           }
          ],
          "histogram2dcontour": [
           {
            "colorbar": {
             "outlinewidth": 0,
             "ticks": ""
            },
            "colorscale": [
             [
              0,
              "#0d0887"
             ],
             [
              0.1111111111111111,
              "#46039f"
             ],
             [
              0.2222222222222222,
              "#7201a8"
             ],
             [
              0.3333333333333333,
              "#9c179e"
             ],
             [
              0.4444444444444444,
              "#bd3786"
             ],
             [
              0.5555555555555556,
              "#d8576b"
             ],
             [
              0.6666666666666666,
              "#ed7953"
             ],
             [
              0.7777777777777778,
              "#fb9f3a"
             ],
             [
              0.8888888888888888,
              "#fdca26"
             ],
             [
              1,
              "#f0f921"
             ]
            ],
            "type": "histogram2dcontour"
           }
          ],
          "mesh3d": [
           {
            "colorbar": {
             "outlinewidth": 0,
             "ticks": ""
            },
            "type": "mesh3d"
           }
          ],
          "parcoords": [
           {
            "line": {
             "colorbar": {
              "outlinewidth": 0,
              "ticks": ""
             }
            },
            "type": "parcoords"
           }
          ],
          "pie": [
           {
            "automargin": true,
            "type": "pie"
           }
          ],
          "scatter": [
           {
            "fillpattern": {
             "fillmode": "overlay",
             "size": 10,
             "solidity": 0.2
            },
            "type": "scatter"
           }
          ],
          "scatter3d": [
           {
            "line": {
             "colorbar": {
              "outlinewidth": 0,
              "ticks": ""
             }
            },
            "marker": {
             "colorbar": {
              "outlinewidth": 0,
              "ticks": ""
             }
            },
            "type": "scatter3d"
           }
          ],
          "scattercarpet": [
           {
            "marker": {
             "colorbar": {
              "outlinewidth": 0,
              "ticks": ""
             }
            },
            "type": "scattercarpet"
           }
          ],
          "scattergeo": [
           {
            "marker": {
             "colorbar": {
              "outlinewidth": 0,
              "ticks": ""
             }
            },
            "type": "scattergeo"
           }
          ],
          "scattergl": [
           {
            "marker": {
             "colorbar": {
              "outlinewidth": 0,
              "ticks": ""
             }
            },
            "type": "scattergl"
           }
          ],
          "scattermapbox": [
           {
            "marker": {
             "colorbar": {
              "outlinewidth": 0,
              "ticks": ""
             }
            },
            "type": "scattermapbox"
           }
          ],
          "scatterpolar": [
           {
            "marker": {
             "colorbar": {
              "outlinewidth": 0,
              "ticks": ""
             }
            },
            "type": "scatterpolar"
           }
          ],
          "scatterpolargl": [
           {
            "marker": {
             "colorbar": {
              "outlinewidth": 0,
              "ticks": ""
             }
            },
            "type": "scatterpolargl"
           }
          ],
          "scatterternary": [
           {
            "marker": {
             "colorbar": {
              "outlinewidth": 0,
              "ticks": ""
             }
            },
            "type": "scatterternary"
           }
          ],
          "surface": [
           {
            "colorbar": {
             "outlinewidth": 0,
             "ticks": ""
            },
            "colorscale": [
             [
              0,
              "#0d0887"
             ],
             [
              0.1111111111111111,
              "#46039f"
             ],
             [
              0.2222222222222222,
              "#7201a8"
             ],
             [
              0.3333333333333333,
              "#9c179e"
             ],
             [
              0.4444444444444444,
              "#bd3786"
             ],
             [
              0.5555555555555556,
              "#d8576b"
             ],
             [
              0.6666666666666666,
              "#ed7953"
             ],
             [
              0.7777777777777778,
              "#fb9f3a"
             ],
             [
              0.8888888888888888,
              "#fdca26"
             ],
             [
              1,
              "#f0f921"
             ]
            ],
            "type": "surface"
           }
          ],
          "table": [
           {
            "cells": {
             "fill": {
              "color": "#EBF0F8"
             },
             "line": {
              "color": "white"
             }
            },
            "header": {
             "fill": {
              "color": "#C8D4E3"
             },
             "line": {
              "color": "white"
             }
            },
            "type": "table"
           }
          ]
         },
         "layout": {
          "annotationdefaults": {
           "arrowcolor": "#2a3f5f",
           "arrowhead": 0,
           "arrowwidth": 1
          },
          "autotypenumbers": "strict",
          "coloraxis": {
           "colorbar": {
            "outlinewidth": 0,
            "ticks": ""
           }
          },
          "colorscale": {
           "diverging": [
            [
             0,
             "#8e0152"
            ],
            [
             0.1,
             "#c51b7d"
            ],
            [
             0.2,
             "#de77ae"
            ],
            [
             0.3,
             "#f1b6da"
            ],
            [
             0.4,
             "#fde0ef"
            ],
            [
             0.5,
             "#f7f7f7"
            ],
            [
             0.6,
             "#e6f5d0"
            ],
            [
             0.7,
             "#b8e186"
            ],
            [
             0.8,
             "#7fbc41"
            ],
            [
             0.9,
             "#4d9221"
            ],
            [
             1,
             "#276419"
            ]
           ],
           "sequential": [
            [
             0,
             "#0d0887"
            ],
            [
             0.1111111111111111,
             "#46039f"
            ],
            [
             0.2222222222222222,
             "#7201a8"
            ],
            [
             0.3333333333333333,
             "#9c179e"
            ],
            [
             0.4444444444444444,
             "#bd3786"
            ],
            [
             0.5555555555555556,
             "#d8576b"
            ],
            [
             0.6666666666666666,
             "#ed7953"
            ],
            [
             0.7777777777777778,
             "#fb9f3a"
            ],
            [
             0.8888888888888888,
             "#fdca26"
            ],
            [
             1,
             "#f0f921"
            ]
           ],
           "sequentialminus": [
            [
             0,
             "#0d0887"
            ],
            [
             0.1111111111111111,
             "#46039f"
            ],
            [
             0.2222222222222222,
             "#7201a8"
            ],
            [
             0.3333333333333333,
             "#9c179e"
            ],
            [
             0.4444444444444444,
             "#bd3786"
            ],
            [
             0.5555555555555556,
             "#d8576b"
            ],
            [
             0.6666666666666666,
             "#ed7953"
            ],
            [
             0.7777777777777778,
             "#fb9f3a"
            ],
            [
             0.8888888888888888,
             "#fdca26"
            ],
            [
             1,
             "#f0f921"
            ]
           ]
          },
          "colorway": [
           "#636efa",
           "#EF553B",
           "#00cc96",
           "#ab63fa",
           "#FFA15A",
           "#19d3f3",
           "#FF6692",
           "#B6E880",
           "#FF97FF",
           "#FECB52"
          ],
          "font": {
           "color": "#2a3f5f"
          },
          "geo": {
           "bgcolor": "white",
           "lakecolor": "white",
           "landcolor": "#E5ECF6",
           "showlakes": true,
           "showland": true,
           "subunitcolor": "white"
          },
          "hoverlabel": {
           "align": "left"
          },
          "hovermode": "closest",
          "mapbox": {
           "style": "light"
          },
          "paper_bgcolor": "white",
          "plot_bgcolor": "#E5ECF6",
          "polar": {
           "angularaxis": {
            "gridcolor": "white",
            "linecolor": "white",
            "ticks": ""
           },
           "bgcolor": "#E5ECF6",
           "radialaxis": {
            "gridcolor": "white",
            "linecolor": "white",
            "ticks": ""
           }
          },
          "scene": {
           "xaxis": {
            "backgroundcolor": "#E5ECF6",
            "gridcolor": "white",
            "gridwidth": 2,
            "linecolor": "white",
            "showbackground": true,
            "ticks": "",
            "zerolinecolor": "white"
           },
           "yaxis": {
            "backgroundcolor": "#E5ECF6",
            "gridcolor": "white",
            "gridwidth": 2,
            "linecolor": "white",
            "showbackground": true,
            "ticks": "",
            "zerolinecolor": "white"
           },
           "zaxis": {
            "backgroundcolor": "#E5ECF6",
            "gridcolor": "white",
            "gridwidth": 2,
            "linecolor": "white",
            "showbackground": true,
            "ticks": "",
            "zerolinecolor": "white"
           }
          },
          "shapedefaults": {
           "line": {
            "color": "#2a3f5f"
           }
          },
          "ternary": {
           "aaxis": {
            "gridcolor": "white",
            "linecolor": "white",
            "ticks": ""
           },
           "baxis": {
            "gridcolor": "white",
            "linecolor": "white",
            "ticks": ""
           },
           "bgcolor": "#E5ECF6",
           "caxis": {
            "gridcolor": "white",
            "linecolor": "white",
            "ticks": ""
           }
          },
          "title": {
           "x": 0.05
          },
          "xaxis": {
           "automargin": true,
           "gridcolor": "white",
           "linecolor": "white",
           "ticks": "",
           "title": {
            "standoff": 15
           },
           "zerolinecolor": "white",
           "zerolinewidth": 2
          },
          "yaxis": {
           "automargin": true,
           "gridcolor": "white",
           "linecolor": "white",
           "ticks": "",
           "title": {
            "standoff": 15
           },
           "zerolinecolor": "white",
           "zerolinewidth": 2
          }
         }
        },
        "title": {
         "text": "League Missingness Distribution on 'opp_csat15'"
        },
        "xaxis": {
         "anchor": "y",
         "domain": [
          0,
          1
         ],
         "title": {
          "text": "league"
         }
        },
        "yaxis": {
         "anchor": "x",
         "domain": [
          0,
          1
         ],
         "title": {
          "text": "value"
         }
        }
       }
      }
     },
     "metadata": {},
     "output_type": "display_data"
    }
   ],
   "source": [
    "# we are going to find what to test what type of data is missing when analyzing the different \n",
    "league_dependence = missing_important_data.groupby('league')['playoffs'].count()\n",
    "split_dependence = missing_important_data.groupby('split')['playoffs'].count()\n",
    "playoff_depedence = missing_important_data.groupby('playoffs')['playoffs'].count()\n",
    "patch_dependence = missing_important_data.groupby('patch')['playoffs'].count()\n",
    "position_dependence = missing_important_data.groupby('position')['playoffs'].count()\n",
    "\n",
    "# while looking through these, we can see some stark observations\n",
    "# for 'league_dependence', although we have 49 leagues, only 4 show up here\n",
    "# for 'split_dependence', we had a relatively even amount of missing for each split\n",
    "# for 'playoff_depedence', most were non-playoff games, but that may be an indication of the amount of playoff games vs normal games\n",
    "# for 'patch_dependence', it was all over the place\n",
    "for data in [league_dependence]:#, split_dependence, playoff_depedence, patch_dependence, position_dependence]:\n",
    "    fig = px.bar(data/data.sum(), title = f\"League Missingness Distribution on 'opp_csat15'\")\n",
    "    fig.show()\n",
    "    fig.write_html('docs/assets/league_missingness_distribution.html')\n"
   ]
  },
  {
   "cell_type": "code",
   "execution_count": 20,
   "metadata": {},
   "outputs": [
    {
     "data": {
      "text/html": [
       "<div>\n",
       "<style scoped>\n",
       "    .dataframe tbody tr th:only-of-type {\n",
       "        vertical-align: middle;\n",
       "    }\n",
       "\n",
       "    .dataframe tbody tr th {\n",
       "        vertical-align: top;\n",
       "    }\n",
       "\n",
       "    .dataframe thead th {\n",
       "        text-align: right;\n",
       "    }\n",
       "</style>\n",
       "<table border=\"1\" class=\"dataframe\">\n",
       "  <thead>\n",
       "    <tr style=\"text-align: right;\">\n",
       "      <th></th>\n",
       "      <th>league</th>\n",
       "      <th>split</th>\n",
       "      <th>playoffs</th>\n",
       "      <th>patch</th>\n",
       "      <th>position</th>\n",
       "    </tr>\n",
       "  </thead>\n",
       "  <tbody>\n",
       "    <tr>\n",
       "      <th>24</th>\n",
       "      <td>LCK</td>\n",
       "      <td>Split 1</td>\n",
       "      <td>1</td>\n",
       "      <td>12.05</td>\n",
       "      <td>bot</td>\n",
       "    </tr>\n",
       "    <tr>\n",
       "      <th>25</th>\n",
       "      <td>LCKC</td>\n",
       "      <td>Summer</td>\n",
       "      <td>1</td>\n",
       "      <td>12.04</td>\n",
       "      <td>sup</td>\n",
       "    </tr>\n",
       "    <tr>\n",
       "      <th>26</th>\n",
       "      <td>SL (LATAM)</td>\n",
       "      <td>NaN</td>\n",
       "      <td>0</td>\n",
       "      <td>12.03</td>\n",
       "      <td>jng</td>\n",
       "    </tr>\n",
       "    <tr>\n",
       "      <th>27</th>\n",
       "      <td>LCO</td>\n",
       "      <td>Split 2</td>\n",
       "      <td>0</td>\n",
       "      <td>12.09</td>\n",
       "      <td>team</td>\n",
       "    </tr>\n",
       "    <tr>\n",
       "      <th>28</th>\n",
       "      <td>NEXO</td>\n",
       "      <td>Spring</td>\n",
       "      <td>0</td>\n",
       "      <td>12.04</td>\n",
       "      <td>sup</td>\n",
       "    </tr>\n",
       "    <tr>\n",
       "      <th>...</th>\n",
       "      <td>...</td>\n",
       "      <td>...</td>\n",
       "      <td>...</td>\n",
       "      <td>...</td>\n",
       "      <td>...</td>\n",
       "    </tr>\n",
       "    <tr>\n",
       "      <th>149395</th>\n",
       "      <td>CBLOLA</td>\n",
       "      <td>Summer</td>\n",
       "      <td>1</td>\n",
       "      <td>12.05</td>\n",
       "      <td>jng</td>\n",
       "    </tr>\n",
       "    <tr>\n",
       "      <th>149396</th>\n",
       "      <td>NLC</td>\n",
       "      <td>Summer</td>\n",
       "      <td>0</td>\n",
       "      <td>12.03</td>\n",
       "      <td>mid</td>\n",
       "    </tr>\n",
       "    <tr>\n",
       "      <th>149397</th>\n",
       "      <td>PGC</td>\n",
       "      <td>Spring</td>\n",
       "      <td>0</td>\n",
       "      <td>12.05</td>\n",
       "      <td>top</td>\n",
       "    </tr>\n",
       "    <tr>\n",
       "      <th>149398</th>\n",
       "      <td>VCS</td>\n",
       "      <td>Summer</td>\n",
       "      <td>1</td>\n",
       "      <td>12.02</td>\n",
       "      <td>bot</td>\n",
       "    </tr>\n",
       "    <tr>\n",
       "      <th>149399</th>\n",
       "      <td>LDL</td>\n",
       "      <td>Spring</td>\n",
       "      <td>0</td>\n",
       "      <td>12.13</td>\n",
       "      <td>team</td>\n",
       "    </tr>\n",
       "  </tbody>\n",
       "</table>\n",
       "<p>21828 rows × 5 columns</p>\n",
       "</div>"
      ],
      "text/plain": [
       "            league    split  playoffs  patch position\n",
       "24             LCK  Split 1         1  12.05      bot\n",
       "25            LCKC   Summer         1  12.04      sup\n",
       "26      SL (LATAM)      NaN         0  12.03      jng\n",
       "27             LCO  Split 2         0  12.09     team\n",
       "28            NEXO   Spring         0  12.04      sup\n",
       "...            ...      ...       ...    ...      ...\n",
       "149395      CBLOLA   Summer         1  12.05      jng\n",
       "149396         NLC   Summer         0  12.03      mid\n",
       "149397         PGC   Spring         0  12.05      top\n",
       "149398         VCS   Summer         1  12.02      bot\n",
       "149399         LDL   Spring         0  12.13     team\n",
       "\n",
       "[21828 rows x 5 columns]"
      ]
     },
     "execution_count": 20,
     "metadata": {},
     "output_type": "execute_result"
    }
   ],
   "source": [
    "# Now, let's do a permutation test on the overall dataframe to see if the missing values have the same distribution as this\n",
    "# If they don't then it is likely that this column and the other columns are MAR \n",
    "test_df = (df\n",
    "           .assign(league = np.random.permutation(df['league']))\n",
    "           .assign(split = np.random.permutation(df['split']))\n",
    "           .assign(playoffs = np.random.permutation(df['playoffs']))\n",
    "           .assign(patch = np.random.permutation(df['patch']))\n",
    "           .assign(position = np.random.permutation(df['position']))\n",
    "           )\n",
    "           \n",
    "test_df = test_df[test_df['opp_csat15'].isnull()].loc[:, ['league', 'split', 'playoffs', 'patch', 'position']]\n",
    "test_df"
   ]
  },
  {
   "cell_type": "code",
   "execution_count": 26,
   "metadata": {},
   "outputs": [
    {
     "data": {
      "application/vnd.plotly.v1+json": {
       "config": {
        "plotlyServerURL": "https://plot.ly"
       },
       "data": [
        {
         "alignmentgroup": "True",
         "hovertemplate": "variable=playoffs<br>league=%{x}<br>value=%{y}<extra></extra>",
         "legendgroup": "playoffs",
         "marker": {
          "color": "#636efa",
          "pattern": {
           "shape": ""
          }
         },
         "name": "playoffs",
         "offsetgroup": "playoffs",
         "orientation": "v",
         "showlegend": true,
         "textposition": "auto",
         "type": "bar",
         "x": [
          "CBLOL",
          "CBLOLA",
          "CDF",
          "CT",
          "DCup",
          "DDH",
          "EBL",
          "EL",
          "ESLOL",
          "EUM",
          "GL",
          "GLL",
          "HC",
          "HM",
          "IC",
          "LAS",
          "LCK",
          "LCKC",
          "LCL",
          "LCO",
          "LCS",
          "LCSA",
          "LDL",
          "LEC",
          "LFL",
          "LFL2",
          "LHE",
          "LJL",
          "LJLA",
          "LLA",
          "LMF",
          "LPL",
          "LPLOL",
          "LVP SL",
          "MSI",
          "NEXO",
          "NLC",
          "PCS",
          "PGC",
          "PGN",
          "PRM",
          "SL (LATAM)",
          "TAL",
          "TCL",
          "UL",
          "UPL",
          "VCS",
          "VL",
          "WLDs"
         ],
         "xaxis": "x",
         "y": [
          0.018141836173721827,
          0.018554150632215504,
          0.004947773501924134,
          0.002473886750962067,
          0.005222649807586586,
          0.01832508704416346,
          0.01557632398753894,
          0.01117830309693971,
          0.019928532160527763,
          0.02139453912406084,
          0.013514751695070552,
          0.015347260399486898,
          0.012140370166758292,
          0.012644310060472787,
          0.004947773501924134,
          0.018599963349825912,
          0.038849184533626534,
          0.031748213304013194,
          0.0013743815283122594,
          0.017775334432838557,
          0.02547187099138721,
          0.04306395455378413,
          0.07508704416345978,
          0.018874839655488362,
          0.02038665933663185,
          0.01974528129008613,
          0.019149715961150816,
          0.01736301997434488,
          0.003252702950339014,
          0.015118196811434854,
          0.026617188931647426,
          0.059739783763972876,
          0.01727139453912406,
          0.01928715411398204,
          0.006505405900678028,
          0.016675829210188748,
          0.03142752428074033,
          0.02162360271211288,
          0.04604178119846069,
          0.012048744731537475,
          0.031015209822246655,
          0.014385193329668316,
          0.016446765622136705,
          0.018141836173721827,
          0.021165475536008796,
          0.03151914971596115,
          0.0243723657687374,
          0.013835440718343412,
          0.011682242990654205
         ],
         "yaxis": "y"
        }
       ],
       "layout": {
        "barmode": "relative",
        "legend": {
         "title": {
          "text": "variable"
         },
         "tracegroupgap": 0
        },
        "template": {
         "data": {
          "bar": [
           {
            "error_x": {
             "color": "#2a3f5f"
            },
            "error_y": {
             "color": "#2a3f5f"
            },
            "marker": {
             "line": {
              "color": "#E5ECF6",
              "width": 0.5
             },
             "pattern": {
              "fillmode": "overlay",
              "size": 10,
              "solidity": 0.2
             }
            },
            "type": "bar"
           }
          ],
          "barpolar": [
           {
            "marker": {
             "line": {
              "color": "#E5ECF6",
              "width": 0.5
             },
             "pattern": {
              "fillmode": "overlay",
              "size": 10,
              "solidity": 0.2
             }
            },
            "type": "barpolar"
           }
          ],
          "carpet": [
           {
            "aaxis": {
             "endlinecolor": "#2a3f5f",
             "gridcolor": "white",
             "linecolor": "white",
             "minorgridcolor": "white",
             "startlinecolor": "#2a3f5f"
            },
            "baxis": {
             "endlinecolor": "#2a3f5f",
             "gridcolor": "white",
             "linecolor": "white",
             "minorgridcolor": "white",
             "startlinecolor": "#2a3f5f"
            },
            "type": "carpet"
           }
          ],
          "choropleth": [
           {
            "colorbar": {
             "outlinewidth": 0,
             "ticks": ""
            },
            "type": "choropleth"
           }
          ],
          "contour": [
           {
            "colorbar": {
             "outlinewidth": 0,
             "ticks": ""
            },
            "colorscale": [
             [
              0,
              "#0d0887"
             ],
             [
              0.1111111111111111,
              "#46039f"
             ],
             [
              0.2222222222222222,
              "#7201a8"
             ],
             [
              0.3333333333333333,
              "#9c179e"
             ],
             [
              0.4444444444444444,
              "#bd3786"
             ],
             [
              0.5555555555555556,
              "#d8576b"
             ],
             [
              0.6666666666666666,
              "#ed7953"
             ],
             [
              0.7777777777777778,
              "#fb9f3a"
             ],
             [
              0.8888888888888888,
              "#fdca26"
             ],
             [
              1,
              "#f0f921"
             ]
            ],
            "type": "contour"
           }
          ],
          "contourcarpet": [
           {
            "colorbar": {
             "outlinewidth": 0,
             "ticks": ""
            },
            "type": "contourcarpet"
           }
          ],
          "heatmap": [
           {
            "colorbar": {
             "outlinewidth": 0,
             "ticks": ""
            },
            "colorscale": [
             [
              0,
              "#0d0887"
             ],
             [
              0.1111111111111111,
              "#46039f"
             ],
             [
              0.2222222222222222,
              "#7201a8"
             ],
             [
              0.3333333333333333,
              "#9c179e"
             ],
             [
              0.4444444444444444,
              "#bd3786"
             ],
             [
              0.5555555555555556,
              "#d8576b"
             ],
             [
              0.6666666666666666,
              "#ed7953"
             ],
             [
              0.7777777777777778,
              "#fb9f3a"
             ],
             [
              0.8888888888888888,
              "#fdca26"
             ],
             [
              1,
              "#f0f921"
             ]
            ],
            "type": "heatmap"
           }
          ],
          "heatmapgl": [
           {
            "colorbar": {
             "outlinewidth": 0,
             "ticks": ""
            },
            "colorscale": [
             [
              0,
              "#0d0887"
             ],
             [
              0.1111111111111111,
              "#46039f"
             ],
             [
              0.2222222222222222,
              "#7201a8"
             ],
             [
              0.3333333333333333,
              "#9c179e"
             ],
             [
              0.4444444444444444,
              "#bd3786"
             ],
             [
              0.5555555555555556,
              "#d8576b"
             ],
             [
              0.6666666666666666,
              "#ed7953"
             ],
             [
              0.7777777777777778,
              "#fb9f3a"
             ],
             [
              0.8888888888888888,
              "#fdca26"
             ],
             [
              1,
              "#f0f921"
             ]
            ],
            "type": "heatmapgl"
           }
          ],
          "histogram": [
           {
            "marker": {
             "pattern": {
              "fillmode": "overlay",
              "size": 10,
              "solidity": 0.2
             }
            },
            "type": "histogram"
           }
          ],
          "histogram2d": [
           {
            "colorbar": {
             "outlinewidth": 0,
             "ticks": ""
            },
            "colorscale": [
             [
              0,
              "#0d0887"
             ],
             [
              0.1111111111111111,
              "#46039f"
             ],
             [
              0.2222222222222222,
              "#7201a8"
             ],
             [
              0.3333333333333333,
              "#9c179e"
             ],
             [
              0.4444444444444444,
              "#bd3786"
             ],
             [
              0.5555555555555556,
              "#d8576b"
             ],
             [
              0.6666666666666666,
              "#ed7953"
             ],
             [
              0.7777777777777778,
              "#fb9f3a"
             ],
             [
              0.8888888888888888,
              "#fdca26"
             ],
             [
              1,
              "#f0f921"
             ]
            ],
            "type": "histogram2d"
           }
          ],
          "histogram2dcontour": [
           {
            "colorbar": {
             "outlinewidth": 0,
             "ticks": ""
            },
            "colorscale": [
             [
              0,
              "#0d0887"
             ],
             [
              0.1111111111111111,
              "#46039f"
             ],
             [
              0.2222222222222222,
              "#7201a8"
             ],
             [
              0.3333333333333333,
              "#9c179e"
             ],
             [
              0.4444444444444444,
              "#bd3786"
             ],
             [
              0.5555555555555556,
              "#d8576b"
             ],
             [
              0.6666666666666666,
              "#ed7953"
             ],
             [
              0.7777777777777778,
              "#fb9f3a"
             ],
             [
              0.8888888888888888,
              "#fdca26"
             ],
             [
              1,
              "#f0f921"
             ]
            ],
            "type": "histogram2dcontour"
           }
          ],
          "mesh3d": [
           {
            "colorbar": {
             "outlinewidth": 0,
             "ticks": ""
            },
            "type": "mesh3d"
           }
          ],
          "parcoords": [
           {
            "line": {
             "colorbar": {
              "outlinewidth": 0,
              "ticks": ""
             }
            },
            "type": "parcoords"
           }
          ],
          "pie": [
           {
            "automargin": true,
            "type": "pie"
           }
          ],
          "scatter": [
           {
            "fillpattern": {
             "fillmode": "overlay",
             "size": 10,
             "solidity": 0.2
            },
            "type": "scatter"
           }
          ],
          "scatter3d": [
           {
            "line": {
             "colorbar": {
              "outlinewidth": 0,
              "ticks": ""
             }
            },
            "marker": {
             "colorbar": {
              "outlinewidth": 0,
              "ticks": ""
             }
            },
            "type": "scatter3d"
           }
          ],
          "scattercarpet": [
           {
            "marker": {
             "colorbar": {
              "outlinewidth": 0,
              "ticks": ""
             }
            },
            "type": "scattercarpet"
           }
          ],
          "scattergeo": [
           {
            "marker": {
             "colorbar": {
              "outlinewidth": 0,
              "ticks": ""
             }
            },
            "type": "scattergeo"
           }
          ],
          "scattergl": [
           {
            "marker": {
             "colorbar": {
              "outlinewidth": 0,
              "ticks": ""
             }
            },
            "type": "scattergl"
           }
          ],
          "scattermapbox": [
           {
            "marker": {
             "colorbar": {
              "outlinewidth": 0,
              "ticks": ""
             }
            },
            "type": "scattermapbox"
           }
          ],
          "scatterpolar": [
           {
            "marker": {
             "colorbar": {
              "outlinewidth": 0,
              "ticks": ""
             }
            },
            "type": "scatterpolar"
           }
          ],
          "scatterpolargl": [
           {
            "marker": {
             "colorbar": {
              "outlinewidth": 0,
              "ticks": ""
             }
            },
            "type": "scatterpolargl"
           }
          ],
          "scatterternary": [
           {
            "marker": {
             "colorbar": {
              "outlinewidth": 0,
              "ticks": ""
             }
            },
            "type": "scatterternary"
           }
          ],
          "surface": [
           {
            "colorbar": {
             "outlinewidth": 0,
             "ticks": ""
            },
            "colorscale": [
             [
              0,
              "#0d0887"
             ],
             [
              0.1111111111111111,
              "#46039f"
             ],
             [
              0.2222222222222222,
              "#7201a8"
             ],
             [
              0.3333333333333333,
              "#9c179e"
             ],
             [
              0.4444444444444444,
              "#bd3786"
             ],
             [
              0.5555555555555556,
              "#d8576b"
             ],
             [
              0.6666666666666666,
              "#ed7953"
             ],
             [
              0.7777777777777778,
              "#fb9f3a"
             ],
             [
              0.8888888888888888,
              "#fdca26"
             ],
             [
              1,
              "#f0f921"
             ]
            ],
            "type": "surface"
           }
          ],
          "table": [
           {
            "cells": {
             "fill": {
              "color": "#EBF0F8"
             },
             "line": {
              "color": "white"
             }
            },
            "header": {
             "fill": {
              "color": "#C8D4E3"
             },
             "line": {
              "color": "white"
             }
            },
            "type": "table"
           }
          ]
         },
         "layout": {
          "annotationdefaults": {
           "arrowcolor": "#2a3f5f",
           "arrowhead": 0,
           "arrowwidth": 1
          },
          "autotypenumbers": "strict",
          "coloraxis": {
           "colorbar": {
            "outlinewidth": 0,
            "ticks": ""
           }
          },
          "colorscale": {
           "diverging": [
            [
             0,
             "#8e0152"
            ],
            [
             0.1,
             "#c51b7d"
            ],
            [
             0.2,
             "#de77ae"
            ],
            [
             0.3,
             "#f1b6da"
            ],
            [
             0.4,
             "#fde0ef"
            ],
            [
             0.5,
             "#f7f7f7"
            ],
            [
             0.6,
             "#e6f5d0"
            ],
            [
             0.7,
             "#b8e186"
            ],
            [
             0.8,
             "#7fbc41"
            ],
            [
             0.9,
             "#4d9221"
            ],
            [
             1,
             "#276419"
            ]
           ],
           "sequential": [
            [
             0,
             "#0d0887"
            ],
            [
             0.1111111111111111,
             "#46039f"
            ],
            [
             0.2222222222222222,
             "#7201a8"
            ],
            [
             0.3333333333333333,
             "#9c179e"
            ],
            [
             0.4444444444444444,
             "#bd3786"
            ],
            [
             0.5555555555555556,
             "#d8576b"
            ],
            [
             0.6666666666666666,
             "#ed7953"
            ],
            [
             0.7777777777777778,
             "#fb9f3a"
            ],
            [
             0.8888888888888888,
             "#fdca26"
            ],
            [
             1,
             "#f0f921"
            ]
           ],
           "sequentialminus": [
            [
             0,
             "#0d0887"
            ],
            [
             0.1111111111111111,
             "#46039f"
            ],
            [
             0.2222222222222222,
             "#7201a8"
            ],
            [
             0.3333333333333333,
             "#9c179e"
            ],
            [
             0.4444444444444444,
             "#bd3786"
            ],
            [
             0.5555555555555556,
             "#d8576b"
            ],
            [
             0.6666666666666666,
             "#ed7953"
            ],
            [
             0.7777777777777778,
             "#fb9f3a"
            ],
            [
             0.8888888888888888,
             "#fdca26"
            ],
            [
             1,
             "#f0f921"
            ]
           ]
          },
          "colorway": [
           "#636efa",
           "#EF553B",
           "#00cc96",
           "#ab63fa",
           "#FFA15A",
           "#19d3f3",
           "#FF6692",
           "#B6E880",
           "#FF97FF",
           "#FECB52"
          ],
          "font": {
           "color": "#2a3f5f"
          },
          "geo": {
           "bgcolor": "white",
           "lakecolor": "white",
           "landcolor": "#E5ECF6",
           "showlakes": true,
           "showland": true,
           "subunitcolor": "white"
          },
          "hoverlabel": {
           "align": "left"
          },
          "hovermode": "closest",
          "mapbox": {
           "style": "light"
          },
          "paper_bgcolor": "white",
          "plot_bgcolor": "#E5ECF6",
          "polar": {
           "angularaxis": {
            "gridcolor": "white",
            "linecolor": "white",
            "ticks": ""
           },
           "bgcolor": "#E5ECF6",
           "radialaxis": {
            "gridcolor": "white",
            "linecolor": "white",
            "ticks": ""
           }
          },
          "scene": {
           "xaxis": {
            "backgroundcolor": "#E5ECF6",
            "gridcolor": "white",
            "gridwidth": 2,
            "linecolor": "white",
            "showbackground": true,
            "ticks": "",
            "zerolinecolor": "white"
           },
           "yaxis": {
            "backgroundcolor": "#E5ECF6",
            "gridcolor": "white",
            "gridwidth": 2,
            "linecolor": "white",
            "showbackground": true,
            "ticks": "",
            "zerolinecolor": "white"
           },
           "zaxis": {
            "backgroundcolor": "#E5ECF6",
            "gridcolor": "white",
            "gridwidth": 2,
            "linecolor": "white",
            "showbackground": true,
            "ticks": "",
            "zerolinecolor": "white"
           }
          },
          "shapedefaults": {
           "line": {
            "color": "#2a3f5f"
           }
          },
          "ternary": {
           "aaxis": {
            "gridcolor": "white",
            "linecolor": "white",
            "ticks": ""
           },
           "baxis": {
            "gridcolor": "white",
            "linecolor": "white",
            "ticks": ""
           },
           "bgcolor": "#E5ECF6",
           "caxis": {
            "gridcolor": "white",
            "linecolor": "white",
            "ticks": ""
           }
          },
          "title": {
           "x": 0.05
          },
          "xaxis": {
           "automargin": true,
           "gridcolor": "white",
           "linecolor": "white",
           "ticks": "",
           "title": {
            "standoff": 15
           },
           "zerolinecolor": "white",
           "zerolinewidth": 2
          },
          "yaxis": {
           "automargin": true,
           "gridcolor": "white",
           "linecolor": "white",
           "ticks": "",
           "title": {
            "standoff": 15
           },
           "zerolinecolor": "white",
           "zerolinewidth": 2
          }
         }
        },
        "title": {
         "text": "Permutated League Missingness Distribution on 'opp_csat15'"
        },
        "xaxis": {
         "anchor": "y",
         "domain": [
          0,
          1
         ],
         "title": {
          "text": "league"
         }
        },
        "yaxis": {
         "anchor": "x",
         "domain": [
          0,
          1
         ],
         "title": {
          "text": "value"
         }
        }
       }
      }
     },
     "metadata": {},
     "output_type": "display_data"
    }
   ],
   "source": [
    "league_dependence = test_df.groupby('league')['playoffs'].count()\n",
    "split_dependence = test_df.groupby('split')['playoffs'].count()\n",
    "playoff_depedence = test_df.groupby('playoffs')['playoffs'].count()\n",
    "patch_dependence = test_df.groupby('patch')['playoffs'].count()\n",
    "position_dependence = test_df.groupby('position')['playoffs'].count()\n",
    "\n",
    "for data in [league_dependence]: #, split_dependence, playoff_depedence, patch_dependence, position_dependence]:\n",
    "    fig = px.bar(data/data.sum(), title = \"Permutated League Missingness Distribution on 'opp_csat15'\")\n",
    "    fig.show()\n",
    "    fig.write_html(\"docs/assets/permutated_league_missingness.html\")"
   ]
  },
  {
   "cell_type": "code",
   "execution_count": 16,
   "metadata": {},
   "outputs": [],
   "source": [
    "test_df = df.assign(league = np.random.permutation)\n",
    "stats = test_df[test_df['opp_csat15'].isnull()].groupby('league')['playoffs'].count()"
   ]
  },
  {
   "cell_type": "code",
   "execution_count": 17,
   "metadata": {},
   "outputs": [],
   "source": [
    "# just through observing the graphs, the most stark difference comes from the regions, where it seems like LPL\n",
    "# and LDL carry the most missing values (both are from China). In order to test this, let's compare the highest \n",
    "# in our filtered data set (LDL, 0.517867)\n",
    "\n",
    "# In this case, these are our hypotheses (testing at the 0.01 significance level)\n",
    "# Null Hypothesis: Data that is missing comes from the same 'league' distribution as all other data\n",
    "# Alternative Hypothesis: Data that is missing is significantly more likely to be one 'league' than others\n",
    "\n",
    "differences = []\n",
    "for _ in range(1000):\n",
    "    test_df = df.assign(league = np.random.permutation(df['league']))\n",
    "    stats = test_df[test_df['opp_csat15'].isnull()].groupby('league')['playoffs'].count()\n",
    "    differences.append(stats[stats.index == 'LDL'].iloc[0]/stats.sum())\n",
    "    \n",
    "p_value = np.mean(np.array(differences) >= 0.517867)"
   ]
  },
  {
   "cell_type": "code",
   "execution_count": 18,
   "metadata": {},
   "outputs": [
    {
     "data": {
      "text/plain": [
       "0.0"
      ]
     },
     "execution_count": 18,
     "metadata": {},
     "output_type": "execute_result"
    }
   ],
   "source": [
    "# Since our p-value is 0, this means that the missing of the 'opp_csat15' is reliant on the 'league' column,\n",
    "# particularly when testing with the LDL and LPL teams (Chinese). These possibly suggest that there is an issue\n",
    "# with getting Chinese Data on these columns, or that Chinese teams don't record this data\n",
    "\n",
    "p_value"
   ]
  },
  {
   "cell_type": "code",
   "execution_count": 19,
   "metadata": {},
   "outputs": [],
   "source": [
    "# Now for testing something else that might have a different missingness, we want to see if there's anything that \n",
    "# could reasonably be different based on randomness. If we look at the number of times missingness was determined\n",
    "# based on the playoffs, the highest total percentage was 0.8801539. Let's test this with a null and alternative hypotheses\n",
    "\n",
    "# Null Hypothesis: The missingness of NA values in the 'opp_csat15' column comes from the same distribution regardless of the position player's have played\n",
    "# Alternative Hypothesis: The missingness of NA values in 'opp_csat15' column is dependent on a position played\n",
    "\n",
    "position_differences = []\n",
    "for _ in range(1000):\n",
    "    test_df = df.assign(position = np.random.permutation(df['position']))\n",
    "    stats = test_df[test_df['opp_csat15'].isnull()].groupby('position')['gameid'].count()\n",
    "    position_differences.append(stats.iloc[0]/stats.sum())\n",
    "\n",
    "position_pval = np.mean(np.array(position_differences) >= (1/6))"
   ]
  },
  {
   "cell_type": "code",
   "execution_count": 35,
   "metadata": {},
   "outputs": [
    {
     "data": {
      "application/vnd.plotly.v1+json": {
       "config": {
        "plotlyServerURL": "https://plot.ly"
       },
       "data": [
        {
         "alignmentgroup": "True",
         "hovertemplate": "variable=gameid<br>position=%{x}<br>value=%{y}<extra></extra>",
         "legendgroup": "gameid",
         "marker": {
          "color": "#636efa",
          "pattern": {
           "shape": ""
          }
         },
         "name": "gameid",
         "offsetgroup": "gameid",
         "orientation": "v",
         "showlegend": true,
         "textposition": "auto",
         "type": "bar",
         "x": [
          "bot",
          "jng",
          "mid",
          "sup",
          "team",
          "top"
         ],
         "xaxis": "x",
         "y": [
          0.16881986439435587,
          0.165246472420744,
          0.1657962250320689,
          0.16565878687923768,
          0.1673538574308228,
          0.16712479384277076
         ],
         "yaxis": "y"
        }
       ],
       "layout": {
        "barmode": "relative",
        "legend": {
         "title": {
          "text": "variable"
         },
         "tracegroupgap": 0
        },
        "template": {
         "data": {
          "bar": [
           {
            "error_x": {
             "color": "#2a3f5f"
            },
            "error_y": {
             "color": "#2a3f5f"
            },
            "marker": {
             "line": {
              "color": "#E5ECF6",
              "width": 0.5
             },
             "pattern": {
              "fillmode": "overlay",
              "size": 10,
              "solidity": 0.2
             }
            },
            "type": "bar"
           }
          ],
          "barpolar": [
           {
            "marker": {
             "line": {
              "color": "#E5ECF6",
              "width": 0.5
             },
             "pattern": {
              "fillmode": "overlay",
              "size": 10,
              "solidity": 0.2
             }
            },
            "type": "barpolar"
           }
          ],
          "carpet": [
           {
            "aaxis": {
             "endlinecolor": "#2a3f5f",
             "gridcolor": "white",
             "linecolor": "white",
             "minorgridcolor": "white",
             "startlinecolor": "#2a3f5f"
            },
            "baxis": {
             "endlinecolor": "#2a3f5f",
             "gridcolor": "white",
             "linecolor": "white",
             "minorgridcolor": "white",
             "startlinecolor": "#2a3f5f"
            },
            "type": "carpet"
           }
          ],
          "choropleth": [
           {
            "colorbar": {
             "outlinewidth": 0,
             "ticks": ""
            },
            "type": "choropleth"
           }
          ],
          "contour": [
           {
            "colorbar": {
             "outlinewidth": 0,
             "ticks": ""
            },
            "colorscale": [
             [
              0,
              "#0d0887"
             ],
             [
              0.1111111111111111,
              "#46039f"
             ],
             [
              0.2222222222222222,
              "#7201a8"
             ],
             [
              0.3333333333333333,
              "#9c179e"
             ],
             [
              0.4444444444444444,
              "#bd3786"
             ],
             [
              0.5555555555555556,
              "#d8576b"
             ],
             [
              0.6666666666666666,
              "#ed7953"
             ],
             [
              0.7777777777777778,
              "#fb9f3a"
             ],
             [
              0.8888888888888888,
              "#fdca26"
             ],
             [
              1,
              "#f0f921"
             ]
            ],
            "type": "contour"
           }
          ],
          "contourcarpet": [
           {
            "colorbar": {
             "outlinewidth": 0,
             "ticks": ""
            },
            "type": "contourcarpet"
           }
          ],
          "heatmap": [
           {
            "colorbar": {
             "outlinewidth": 0,
             "ticks": ""
            },
            "colorscale": [
             [
              0,
              "#0d0887"
             ],
             [
              0.1111111111111111,
              "#46039f"
             ],
             [
              0.2222222222222222,
              "#7201a8"
             ],
             [
              0.3333333333333333,
              "#9c179e"
             ],
             [
              0.4444444444444444,
              "#bd3786"
             ],
             [
              0.5555555555555556,
              "#d8576b"
             ],
             [
              0.6666666666666666,
              "#ed7953"
             ],
             [
              0.7777777777777778,
              "#fb9f3a"
             ],
             [
              0.8888888888888888,
              "#fdca26"
             ],
             [
              1,
              "#f0f921"
             ]
            ],
            "type": "heatmap"
           }
          ],
          "heatmapgl": [
           {
            "colorbar": {
             "outlinewidth": 0,
             "ticks": ""
            },
            "colorscale": [
             [
              0,
              "#0d0887"
             ],
             [
              0.1111111111111111,
              "#46039f"
             ],
             [
              0.2222222222222222,
              "#7201a8"
             ],
             [
              0.3333333333333333,
              "#9c179e"
             ],
             [
              0.4444444444444444,
              "#bd3786"
             ],
             [
              0.5555555555555556,
              "#d8576b"
             ],
             [
              0.6666666666666666,
              "#ed7953"
             ],
             [
              0.7777777777777778,
              "#fb9f3a"
             ],
             [
              0.8888888888888888,
              "#fdca26"
             ],
             [
              1,
              "#f0f921"
             ]
            ],
            "type": "heatmapgl"
           }
          ],
          "histogram": [
           {
            "marker": {
             "pattern": {
              "fillmode": "overlay",
              "size": 10,
              "solidity": 0.2
             }
            },
            "type": "histogram"
           }
          ],
          "histogram2d": [
           {
            "colorbar": {
             "outlinewidth": 0,
             "ticks": ""
            },
            "colorscale": [
             [
              0,
              "#0d0887"
             ],
             [
              0.1111111111111111,
              "#46039f"
             ],
             [
              0.2222222222222222,
              "#7201a8"
             ],
             [
              0.3333333333333333,
              "#9c179e"
             ],
             [
              0.4444444444444444,
              "#bd3786"
             ],
             [
              0.5555555555555556,
              "#d8576b"
             ],
             [
              0.6666666666666666,
              "#ed7953"
             ],
             [
              0.7777777777777778,
              "#fb9f3a"
             ],
             [
              0.8888888888888888,
              "#fdca26"
             ],
             [
              1,
              "#f0f921"
             ]
            ],
            "type": "histogram2d"
           }
          ],
          "histogram2dcontour": [
           {
            "colorbar": {
             "outlinewidth": 0,
             "ticks": ""
            },
            "colorscale": [
             [
              0,
              "#0d0887"
             ],
             [
              0.1111111111111111,
              "#46039f"
             ],
             [
              0.2222222222222222,
              "#7201a8"
             ],
             [
              0.3333333333333333,
              "#9c179e"
             ],
             [
              0.4444444444444444,
              "#bd3786"
             ],
             [
              0.5555555555555556,
              "#d8576b"
             ],
             [
              0.6666666666666666,
              "#ed7953"
             ],
             [
              0.7777777777777778,
              "#fb9f3a"
             ],
             [
              0.8888888888888888,
              "#fdca26"
             ],
             [
              1,
              "#f0f921"
             ]
            ],
            "type": "histogram2dcontour"
           }
          ],
          "mesh3d": [
           {
            "colorbar": {
             "outlinewidth": 0,
             "ticks": ""
            },
            "type": "mesh3d"
           }
          ],
          "parcoords": [
           {
            "line": {
             "colorbar": {
              "outlinewidth": 0,
              "ticks": ""
             }
            },
            "type": "parcoords"
           }
          ],
          "pie": [
           {
            "automargin": true,
            "type": "pie"
           }
          ],
          "scatter": [
           {
            "fillpattern": {
             "fillmode": "overlay",
             "size": 10,
             "solidity": 0.2
            },
            "type": "scatter"
           }
          ],
          "scatter3d": [
           {
            "line": {
             "colorbar": {
              "outlinewidth": 0,
              "ticks": ""
             }
            },
            "marker": {
             "colorbar": {
              "outlinewidth": 0,
              "ticks": ""
             }
            },
            "type": "scatter3d"
           }
          ],
          "scattercarpet": [
           {
            "marker": {
             "colorbar": {
              "outlinewidth": 0,
              "ticks": ""
             }
            },
            "type": "scattercarpet"
           }
          ],
          "scattergeo": [
           {
            "marker": {
             "colorbar": {
              "outlinewidth": 0,
              "ticks": ""
             }
            },
            "type": "scattergeo"
           }
          ],
          "scattergl": [
           {
            "marker": {
             "colorbar": {
              "outlinewidth": 0,
              "ticks": ""
             }
            },
            "type": "scattergl"
           }
          ],
          "scattermapbox": [
           {
            "marker": {
             "colorbar": {
              "outlinewidth": 0,
              "ticks": ""
             }
            },
            "type": "scattermapbox"
           }
          ],
          "scatterpolar": [
           {
            "marker": {
             "colorbar": {
              "outlinewidth": 0,
              "ticks": ""
             }
            },
            "type": "scatterpolar"
           }
          ],
          "scatterpolargl": [
           {
            "marker": {
             "colorbar": {
              "outlinewidth": 0,
              "ticks": ""
             }
            },
            "type": "scatterpolargl"
           }
          ],
          "scatterternary": [
           {
            "marker": {
             "colorbar": {
              "outlinewidth": 0,
              "ticks": ""
             }
            },
            "type": "scatterternary"
           }
          ],
          "surface": [
           {
            "colorbar": {
             "outlinewidth": 0,
             "ticks": ""
            },
            "colorscale": [
             [
              0,
              "#0d0887"
             ],
             [
              0.1111111111111111,
              "#46039f"
             ],
             [
              0.2222222222222222,
              "#7201a8"
             ],
             [
              0.3333333333333333,
              "#9c179e"
             ],
             [
              0.4444444444444444,
              "#bd3786"
             ],
             [
              0.5555555555555556,
              "#d8576b"
             ],
             [
              0.6666666666666666,
              "#ed7953"
             ],
             [
              0.7777777777777778,
              "#fb9f3a"
             ],
             [
              0.8888888888888888,
              "#fdca26"
             ],
             [
              1,
              "#f0f921"
             ]
            ],
            "type": "surface"
           }
          ],
          "table": [
           {
            "cells": {
             "fill": {
              "color": "#EBF0F8"
             },
             "line": {
              "color": "white"
             }
            },
            "header": {
             "fill": {
              "color": "#C8D4E3"
             },
             "line": {
              "color": "white"
             }
            },
            "type": "table"
           }
          ]
         },
         "layout": {
          "annotationdefaults": {
           "arrowcolor": "#2a3f5f",
           "arrowhead": 0,
           "arrowwidth": 1
          },
          "autotypenumbers": "strict",
          "coloraxis": {
           "colorbar": {
            "outlinewidth": 0,
            "ticks": ""
           }
          },
          "colorscale": {
           "diverging": [
            [
             0,
             "#8e0152"
            ],
            [
             0.1,
             "#c51b7d"
            ],
            [
             0.2,
             "#de77ae"
            ],
            [
             0.3,
             "#f1b6da"
            ],
            [
             0.4,
             "#fde0ef"
            ],
            [
             0.5,
             "#f7f7f7"
            ],
            [
             0.6,
             "#e6f5d0"
            ],
            [
             0.7,
             "#b8e186"
            ],
            [
             0.8,
             "#7fbc41"
            ],
            [
             0.9,
             "#4d9221"
            ],
            [
             1,
             "#276419"
            ]
           ],
           "sequential": [
            [
             0,
             "#0d0887"
            ],
            [
             0.1111111111111111,
             "#46039f"
            ],
            [
             0.2222222222222222,
             "#7201a8"
            ],
            [
             0.3333333333333333,
             "#9c179e"
            ],
            [
             0.4444444444444444,
             "#bd3786"
            ],
            [
             0.5555555555555556,
             "#d8576b"
            ],
            [
             0.6666666666666666,
             "#ed7953"
            ],
            [
             0.7777777777777778,
             "#fb9f3a"
            ],
            [
             0.8888888888888888,
             "#fdca26"
            ],
            [
             1,
             "#f0f921"
            ]
           ],
           "sequentialminus": [
            [
             0,
             "#0d0887"
            ],
            [
             0.1111111111111111,
             "#46039f"
            ],
            [
             0.2222222222222222,
             "#7201a8"
            ],
            [
             0.3333333333333333,
             "#9c179e"
            ],
            [
             0.4444444444444444,
             "#bd3786"
            ],
            [
             0.5555555555555556,
             "#d8576b"
            ],
            [
             0.6666666666666666,
             "#ed7953"
            ],
            [
             0.7777777777777778,
             "#fb9f3a"
            ],
            [
             0.8888888888888888,
             "#fdca26"
            ],
            [
             1,
             "#f0f921"
            ]
           ]
          },
          "colorway": [
           "#636efa",
           "#EF553B",
           "#00cc96",
           "#ab63fa",
           "#FFA15A",
           "#19d3f3",
           "#FF6692",
           "#B6E880",
           "#FF97FF",
           "#FECB52"
          ],
          "font": {
           "color": "#2a3f5f"
          },
          "geo": {
           "bgcolor": "white",
           "lakecolor": "white",
           "landcolor": "#E5ECF6",
           "showlakes": true,
           "showland": true,
           "subunitcolor": "white"
          },
          "hoverlabel": {
           "align": "left"
          },
          "hovermode": "closest",
          "mapbox": {
           "style": "light"
          },
          "paper_bgcolor": "white",
          "plot_bgcolor": "#E5ECF6",
          "polar": {
           "angularaxis": {
            "gridcolor": "white",
            "linecolor": "white",
            "ticks": ""
           },
           "bgcolor": "#E5ECF6",
           "radialaxis": {
            "gridcolor": "white",
            "linecolor": "white",
            "ticks": ""
           }
          },
          "scene": {
           "xaxis": {
            "backgroundcolor": "#E5ECF6",
            "gridcolor": "white",
            "gridwidth": 2,
            "linecolor": "white",
            "showbackground": true,
            "ticks": "",
            "zerolinecolor": "white"
           },
           "yaxis": {
            "backgroundcolor": "#E5ECF6",
            "gridcolor": "white",
            "gridwidth": 2,
            "linecolor": "white",
            "showbackground": true,
            "ticks": "",
            "zerolinecolor": "white"
           },
           "zaxis": {
            "backgroundcolor": "#E5ECF6",
            "gridcolor": "white",
            "gridwidth": 2,
            "linecolor": "white",
            "showbackground": true,
            "ticks": "",
            "zerolinecolor": "white"
           }
          },
          "shapedefaults": {
           "line": {
            "color": "#2a3f5f"
           }
          },
          "ternary": {
           "aaxis": {
            "gridcolor": "white",
            "linecolor": "white",
            "ticks": ""
           },
           "baxis": {
            "gridcolor": "white",
            "linecolor": "white",
            "ticks": ""
           },
           "bgcolor": "#E5ECF6",
           "caxis": {
            "gridcolor": "white",
            "linecolor": "white",
            "ticks": ""
           }
          },
          "title": {
           "x": 0.05
          },
          "xaxis": {
           "automargin": true,
           "gridcolor": "white",
           "linecolor": "white",
           "ticks": "",
           "title": {
            "standoff": 15
           },
           "zerolinecolor": "white",
           "zerolinewidth": 2
          },
          "yaxis": {
           "automargin": true,
           "gridcolor": "white",
           "linecolor": "white",
           "ticks": "",
           "title": {
            "standoff": 15
           },
           "zerolinecolor": "white",
           "zerolinewidth": 2
          }
         }
        },
        "title": {
         "text": "Permutated Position Missingness Distribution on 'opp_csat15'"
        },
        "xaxis": {
         "anchor": "y",
         "domain": [
          0,
          1
         ],
         "title": {
          "text": "position"
         }
        },
        "yaxis": {
         "anchor": "x",
         "domain": [
          0,
          1
         ],
         "title": {
          "text": "value"
         }
        }
       }
      }
     },
     "metadata": {},
     "output_type": "display_data"
    }
   ],
   "source": [
    "test_df = df.assign(position = np.random.permutation(df['position']))\n",
    "stats = test_df[test_df['opp_csat15'].isnull()].groupby('position')['gameid'].count()\n",
    "fig = px.bar(stats/stats.sum(), title = \"Permutated Position Missingness Distribution on 'opp_csat15'\")\n",
    "fig.show()\n",
    "fig.write_html(\"docs/assets/permutated_position_missingness.html\")\n"
   ]
  },
  {
   "cell_type": "code",
   "execution_count": 20,
   "metadata": {},
   "outputs": [
    {
     "data": {
      "text/plain": [
       "0.512"
      ]
     },
     "execution_count": 20,
     "metadata": {},
     "output_type": "execute_result"
    }
   ],
   "source": [
    "# Since our p-value is over 0.01 (our significance level), we can accept our null hypothesis and state that\n",
    "# the missingness of column 'opp_csat15' is not dependent on the position being played by players at the time\n",
    "\n",
    "position_pval"
   ]
  },
  {
   "cell_type": "markdown",
   "metadata": {},
   "source": [
    "### Hypothesis Testing"
   ]
  },
  {
   "cell_type": "code",
   "execution_count": 21,
   "metadata": {
    "ExecuteTime": {
     "end_time": "2019-10-31T23:36:28.666489Z",
     "start_time": "2019-10-31T23:36:28.664381Z"
    }
   },
   "outputs": [
    {
     "data": {
      "text/html": [
       "<div>\n",
       "<style scoped>\n",
       "    .dataframe tbody tr th:only-of-type {\n",
       "        vertical-align: middle;\n",
       "    }\n",
       "\n",
       "    .dataframe tbody tr th {\n",
       "        vertical-align: top;\n",
       "    }\n",
       "\n",
       "    .dataframe thead th {\n",
       "        text-align: right;\n",
       "    }\n",
       "</style>\n",
       "<table border=\"1\" class=\"dataframe\">\n",
       "  <thead>\n",
       "    <tr style=\"text-align: right;\">\n",
       "      <th></th>\n",
       "      <th>gameid</th>\n",
       "      <th>datacompleteness</th>\n",
       "      <th>playoffs</th>\n",
       "      <th>side</th>\n",
       "      <th>position</th>\n",
       "      <th>champion</th>\n",
       "      <th>gamelength</th>\n",
       "      <th>result</th>\n",
       "      <th>killsat15</th>\n",
       "      <th>assistsat15</th>\n",
       "      <th>deathsat15</th>\n",
       "      <th>goldat15</th>\n",
       "      <th>xpat15</th>\n",
       "      <th>csat15</th>\n",
       "      <th>golddiffat15</th>\n",
       "      <th>xpdiffat15</th>\n",
       "      <th>csdiffat15</th>\n",
       "      <th>winlane</th>\n",
       "    </tr>\n",
       "  </thead>\n",
       "  <tbody>\n",
       "    <tr>\n",
       "      <th>0</th>\n",
       "      <td>ESPORTSTMNT01_2690210</td>\n",
       "      <td>True</td>\n",
       "      <td>False</td>\n",
       "      <td>Blue</td>\n",
       "      <td>top</td>\n",
       "      <td>Renekton</td>\n",
       "      <td>1713</td>\n",
       "      <td>False</td>\n",
       "      <td>0.0</td>\n",
       "      <td>1.0</td>\n",
       "      <td>0.0</td>\n",
       "      <td>5025.0</td>\n",
       "      <td>7560.0</td>\n",
       "      <td>135.0</td>\n",
       "      <td>391.0</td>\n",
       "      <td>345.0</td>\n",
       "      <td>14.0</td>\n",
       "      <td>True</td>\n",
       "    </tr>\n",
       "    <tr>\n",
       "      <th>5</th>\n",
       "      <td>ESPORTSTMNT01_2690210</td>\n",
       "      <td>True</td>\n",
       "      <td>False</td>\n",
       "      <td>Red</td>\n",
       "      <td>top</td>\n",
       "      <td>Gragas</td>\n",
       "      <td>1713</td>\n",
       "      <td>True</td>\n",
       "      <td>0.0</td>\n",
       "      <td>1.0</td>\n",
       "      <td>0.0</td>\n",
       "      <td>4634.0</td>\n",
       "      <td>7215.0</td>\n",
       "      <td>121.0</td>\n",
       "      <td>-391.0</td>\n",
       "      <td>-345.0</td>\n",
       "      <td>-14.0</td>\n",
       "      <td>False</td>\n",
       "    </tr>\n",
       "    <tr>\n",
       "      <th>12</th>\n",
       "      <td>ESPORTSTMNT01_2690219</td>\n",
       "      <td>True</td>\n",
       "      <td>False</td>\n",
       "      <td>Blue</td>\n",
       "      <td>top</td>\n",
       "      <td>Gragas</td>\n",
       "      <td>2114</td>\n",
       "      <td>False</td>\n",
       "      <td>0.0</td>\n",
       "      <td>1.0</td>\n",
       "      <td>1.0</td>\n",
       "      <td>4673.0</td>\n",
       "      <td>7020.0</td>\n",
       "      <td>110.0</td>\n",
       "      <td>-1484.0</td>\n",
       "      <td>-652.0</td>\n",
       "      <td>-30.0</td>\n",
       "      <td>False</td>\n",
       "    </tr>\n",
       "    <tr>\n",
       "      <th>17</th>\n",
       "      <td>ESPORTSTMNT01_2690219</td>\n",
       "      <td>True</td>\n",
       "      <td>False</td>\n",
       "      <td>Red</td>\n",
       "      <td>top</td>\n",
       "      <td>Gangplank</td>\n",
       "      <td>2114</td>\n",
       "      <td>True</td>\n",
       "      <td>1.0</td>\n",
       "      <td>0.0</td>\n",
       "      <td>1.0</td>\n",
       "      <td>6157.0</td>\n",
       "      <td>7672.0</td>\n",
       "      <td>140.0</td>\n",
       "      <td>1484.0</td>\n",
       "      <td>652.0</td>\n",
       "      <td>30.0</td>\n",
       "      <td>True</td>\n",
       "    </tr>\n",
       "    <tr>\n",
       "      <th>36</th>\n",
       "      <td>ESPORTSTMNT01_2690227</td>\n",
       "      <td>True</td>\n",
       "      <td>False</td>\n",
       "      <td>Blue</td>\n",
       "      <td>top</td>\n",
       "      <td>Renekton</td>\n",
       "      <td>1972</td>\n",
       "      <td>True</td>\n",
       "      <td>2.0</td>\n",
       "      <td>0.0</td>\n",
       "      <td>0.0</td>\n",
       "      <td>5856.0</td>\n",
       "      <td>7759.0</td>\n",
       "      <td>146.0</td>\n",
       "      <td>904.0</td>\n",
       "      <td>85.0</td>\n",
       "      <td>4.0</td>\n",
       "      <td>True</td>\n",
       "    </tr>\n",
       "    <tr>\n",
       "      <th>...</th>\n",
       "      <td>...</td>\n",
       "      <td>...</td>\n",
       "      <td>...</td>\n",
       "      <td>...</td>\n",
       "      <td>...</td>\n",
       "      <td>...</td>\n",
       "      <td>...</td>\n",
       "      <td>...</td>\n",
       "      <td>...</td>\n",
       "      <td>...</td>\n",
       "      <td>...</td>\n",
       "      <td>...</td>\n",
       "      <td>...</td>\n",
       "      <td>...</td>\n",
       "      <td>...</td>\n",
       "      <td>...</td>\n",
       "      <td>...</td>\n",
       "      <td>...</td>\n",
       "    </tr>\n",
       "    <tr>\n",
       "      <th>149105</th>\n",
       "      <td>ESPORTSTMNT01_3268686</td>\n",
       "      <td>True</td>\n",
       "      <td>False</td>\n",
       "      <td>Red</td>\n",
       "      <td>top</td>\n",
       "      <td>K'Sante</td>\n",
       "      <td>2325</td>\n",
       "      <td>True</td>\n",
       "      <td>0.0</td>\n",
       "      <td>1.0</td>\n",
       "      <td>2.0</td>\n",
       "      <td>4782.0</td>\n",
       "      <td>7650.0</td>\n",
       "      <td>122.0</td>\n",
       "      <td>-801.0</td>\n",
       "      <td>829.0</td>\n",
       "      <td>11.0</td>\n",
       "      <td>True</td>\n",
       "    </tr>\n",
       "    <tr>\n",
       "      <th>149112</th>\n",
       "      <td>ESPORTSTMNT01_3269631</td>\n",
       "      <td>True</td>\n",
       "      <td>False</td>\n",
       "      <td>Blue</td>\n",
       "      <td>top</td>\n",
       "      <td>Fiora</td>\n",
       "      <td>2076</td>\n",
       "      <td>True</td>\n",
       "      <td>2.0</td>\n",
       "      <td>1.0</td>\n",
       "      <td>1.0</td>\n",
       "      <td>7262.0</td>\n",
       "      <td>8025.0</td>\n",
       "      <td>137.0</td>\n",
       "      <td>2728.0</td>\n",
       "      <td>1467.0</td>\n",
       "      <td>32.0</td>\n",
       "      <td>True</td>\n",
       "    </tr>\n",
       "    <tr>\n",
       "      <th>149117</th>\n",
       "      <td>ESPORTSTMNT01_3269631</td>\n",
       "      <td>True</td>\n",
       "      <td>False</td>\n",
       "      <td>Red</td>\n",
       "      <td>top</td>\n",
       "      <td>K'Sante</td>\n",
       "      <td>2076</td>\n",
       "      <td>False</td>\n",
       "      <td>0.0</td>\n",
       "      <td>1.0</td>\n",
       "      <td>3.0</td>\n",
       "      <td>4534.0</td>\n",
       "      <td>6558.0</td>\n",
       "      <td>105.0</td>\n",
       "      <td>-2728.0</td>\n",
       "      <td>-1467.0</td>\n",
       "      <td>-32.0</td>\n",
       "      <td>False</td>\n",
       "    </tr>\n",
       "    <tr>\n",
       "      <th>149124</th>\n",
       "      <td>ESPORTSTMNT01_3268705</td>\n",
       "      <td>True</td>\n",
       "      <td>False</td>\n",
       "      <td>Blue</td>\n",
       "      <td>top</td>\n",
       "      <td>Gangplank</td>\n",
       "      <td>1680</td>\n",
       "      <td>True</td>\n",
       "      <td>2.0</td>\n",
       "      <td>1.0</td>\n",
       "      <td>2.0</td>\n",
       "      <td>6485.0</td>\n",
       "      <td>7618.0</td>\n",
       "      <td>123.0</td>\n",
       "      <td>1537.0</td>\n",
       "      <td>645.0</td>\n",
       "      <td>15.0</td>\n",
       "      <td>True</td>\n",
       "    </tr>\n",
       "    <tr>\n",
       "      <th>149129</th>\n",
       "      <td>ESPORTSTMNT01_3268705</td>\n",
       "      <td>True</td>\n",
       "      <td>False</td>\n",
       "      <td>Red</td>\n",
       "      <td>top</td>\n",
       "      <td>K'Sante</td>\n",
       "      <td>1680</td>\n",
       "      <td>False</td>\n",
       "      <td>2.0</td>\n",
       "      <td>0.0</td>\n",
       "      <td>1.0</td>\n",
       "      <td>4948.0</td>\n",
       "      <td>6973.0</td>\n",
       "      <td>108.0</td>\n",
       "      <td>-1537.0</td>\n",
       "      <td>-645.0</td>\n",
       "      <td>-15.0</td>\n",
       "      <td>False</td>\n",
       "    </tr>\n",
       "  </tbody>\n",
       "</table>\n",
       "<p>21174 rows × 18 columns</p>\n",
       "</div>"
      ],
      "text/plain": [
       "                       gameid  datacompleteness  playoffs  side position  \\\n",
       "0       ESPORTSTMNT01_2690210              True     False  Blue      top   \n",
       "5       ESPORTSTMNT01_2690210              True     False   Red      top   \n",
       "12      ESPORTSTMNT01_2690219              True     False  Blue      top   \n",
       "17      ESPORTSTMNT01_2690219              True     False   Red      top   \n",
       "36      ESPORTSTMNT01_2690227              True     False  Blue      top   \n",
       "...                       ...               ...       ...   ...      ...   \n",
       "149105  ESPORTSTMNT01_3268686              True     False   Red      top   \n",
       "149112  ESPORTSTMNT01_3269631              True     False  Blue      top   \n",
       "149117  ESPORTSTMNT01_3269631              True     False   Red      top   \n",
       "149124  ESPORTSTMNT01_3268705              True     False  Blue      top   \n",
       "149129  ESPORTSTMNT01_3268705              True     False   Red      top   \n",
       "\n",
       "         champion  gamelength  result  killsat15  assistsat15  deathsat15  \\\n",
       "0        Renekton        1713   False        0.0          1.0         0.0   \n",
       "5          Gragas        1713    True        0.0          1.0         0.0   \n",
       "12         Gragas        2114   False        0.0          1.0         1.0   \n",
       "17      Gangplank        2114    True        1.0          0.0         1.0   \n",
       "36       Renekton        1972    True        2.0          0.0         0.0   \n",
       "...           ...         ...     ...        ...          ...         ...   \n",
       "149105    K'Sante        2325    True        0.0          1.0         2.0   \n",
       "149112      Fiora        2076    True        2.0          1.0         1.0   \n",
       "149117    K'Sante        2076   False        0.0          1.0         3.0   \n",
       "149124  Gangplank        1680    True        2.0          1.0         2.0   \n",
       "149129    K'Sante        1680   False        2.0          0.0         1.0   \n",
       "\n",
       "        goldat15  xpat15  csat15  golddiffat15  xpdiffat15  csdiffat15 winlane  \n",
       "0         5025.0  7560.0   135.0         391.0       345.0        14.0    True  \n",
       "5         4634.0  7215.0   121.0        -391.0      -345.0       -14.0   False  \n",
       "12        4673.0  7020.0   110.0       -1484.0      -652.0       -30.0   False  \n",
       "17        6157.0  7672.0   140.0        1484.0       652.0        30.0    True  \n",
       "36        5856.0  7759.0   146.0         904.0        85.0         4.0    True  \n",
       "...          ...     ...     ...           ...         ...         ...     ...  \n",
       "149105    4782.0  7650.0   122.0        -801.0       829.0        11.0    True  \n",
       "149112    7262.0  8025.0   137.0        2728.0      1467.0        32.0    True  \n",
       "149117    4534.0  6558.0   105.0       -2728.0     -1467.0       -32.0   False  \n",
       "149124    6485.0  7618.0   123.0        1537.0       645.0        15.0    True  \n",
       "149129    4948.0  6973.0   108.0       -1537.0      -645.0       -15.0   False  \n",
       "\n",
       "[21174 rows x 18 columns]"
      ]
     },
     "execution_count": 21,
     "metadata": {},
     "output_type": "execute_result"
    }
   ],
   "source": [
    "# We need to operationalize what winning means\n",
    "# First we can add columns for KDA((Kills + Assists) / Deaths) as well as killparticipation\n",
    "\n",
    "# def kda_calc(df):\n",
    "#     return (df['kills'] + df['assists']) / max(df['deaths'], 1)\n",
    "# def killpart_calc(df):\n",
    "#     if df['teamkills'] == 0:\n",
    "#         return 0\n",
    "#     return (df['kills'] + df['assists']) / df['teamkills']\n",
    "\n",
    "def winning_top(df):\n",
    "    if df['xpdiffat15'] > 0:\n",
    "        return True\n",
    "    elif df['xpdiffat15'] < 0:\n",
    "        return False\n",
    "    return np.NaN\n",
    "\n",
    "df = (filtered_df\n",
    "#       .assign(kda = filtered_df.apply(kda_calc, axis=1))\n",
    "#       .assign(killpart = filtered_df.apply(killpart_calc, axis=1))\n",
    "      .assign(winlane = filtered_df.apply(winning_top, axis=1))\n",
    "     )\n",
    "df"
   ]
  },
  {
   "cell_type": "code",
   "execution_count": 22,
   "metadata": {},
   "outputs": [
    {
     "data": {
      "text/plain": [
       "array([True, False, nan], dtype=object)"
      ]
     },
     "execution_count": 22,
     "metadata": {},
     "output_type": "execute_result"
    }
   ],
   "source": [
    "df['winlane'].unique()"
   ]
  },
  {
   "cell_type": "code",
   "execution_count": 26,
   "metadata": {
    "scrolled": false
   },
   "outputs": [
    {
     "data": {
      "text/html": [
       "<div>\n",
       "<style scoped>\n",
       "    .dataframe tbody tr th:only-of-type {\n",
       "        vertical-align: middle;\n",
       "    }\n",
       "\n",
       "    .dataframe tbody tr th {\n",
       "        vertical-align: top;\n",
       "    }\n",
       "\n",
       "    .dataframe thead th {\n",
       "        text-align: right;\n",
       "    }\n",
       "</style>\n",
       "<table border=\"1\" class=\"dataframe\">\n",
       "  <thead>\n",
       "    <tr style=\"text-align: right;\">\n",
       "      <th></th>\n",
       "      <th>gameid</th>\n",
       "      <th>datacompleteness</th>\n",
       "      <th>playoffs</th>\n",
       "      <th>side</th>\n",
       "      <th>position</th>\n",
       "      <th>champion</th>\n",
       "      <th>gamelength</th>\n",
       "      <th>result</th>\n",
       "      <th>killsat15</th>\n",
       "      <th>assistsat15</th>\n",
       "      <th>deathsat15</th>\n",
       "      <th>goldat15</th>\n",
       "      <th>xpat15</th>\n",
       "      <th>csat15</th>\n",
       "      <th>golddiffat15</th>\n",
       "      <th>xpdiffat15</th>\n",
       "      <th>csdiffat15</th>\n",
       "      <th>winlane</th>\n",
       "    </tr>\n",
       "  </thead>\n",
       "  <tbody>\n",
       "    <tr>\n",
       "      <th>0</th>\n",
       "      <td>ESPORTSTMNT01_2690210</td>\n",
       "      <td>True</td>\n",
       "      <td>False</td>\n",
       "      <td>Blue</td>\n",
       "      <td>top</td>\n",
       "      <td>Renekton</td>\n",
       "      <td>1713</td>\n",
       "      <td>False</td>\n",
       "      <td>0.0</td>\n",
       "      <td>1.0</td>\n",
       "      <td>0.0</td>\n",
       "      <td>5025.0</td>\n",
       "      <td>7560.0</td>\n",
       "      <td>135.0</td>\n",
       "      <td>391.0</td>\n",
       "      <td>345.0</td>\n",
       "      <td>14.0</td>\n",
       "      <td>True</td>\n",
       "    </tr>\n",
       "    <tr>\n",
       "      <th>5</th>\n",
       "      <td>ESPORTSTMNT01_2690210</td>\n",
       "      <td>True</td>\n",
       "      <td>False</td>\n",
       "      <td>Red</td>\n",
       "      <td>top</td>\n",
       "      <td>Gragas</td>\n",
       "      <td>1713</td>\n",
       "      <td>True</td>\n",
       "      <td>0.0</td>\n",
       "      <td>1.0</td>\n",
       "      <td>0.0</td>\n",
       "      <td>4634.0</td>\n",
       "      <td>7215.0</td>\n",
       "      <td>121.0</td>\n",
       "      <td>-391.0</td>\n",
       "      <td>-345.0</td>\n",
       "      <td>-14.0</td>\n",
       "      <td>False</td>\n",
       "    </tr>\n",
       "    <tr>\n",
       "      <th>12</th>\n",
       "      <td>ESPORTSTMNT01_2690219</td>\n",
       "      <td>True</td>\n",
       "      <td>False</td>\n",
       "      <td>Blue</td>\n",
       "      <td>top</td>\n",
       "      <td>Gragas</td>\n",
       "      <td>2114</td>\n",
       "      <td>False</td>\n",
       "      <td>0.0</td>\n",
       "      <td>1.0</td>\n",
       "      <td>1.0</td>\n",
       "      <td>4673.0</td>\n",
       "      <td>7020.0</td>\n",
       "      <td>110.0</td>\n",
       "      <td>-1484.0</td>\n",
       "      <td>-652.0</td>\n",
       "      <td>-30.0</td>\n",
       "      <td>False</td>\n",
       "    </tr>\n",
       "    <tr>\n",
       "      <th>17</th>\n",
       "      <td>ESPORTSTMNT01_2690219</td>\n",
       "      <td>True</td>\n",
       "      <td>False</td>\n",
       "      <td>Red</td>\n",
       "      <td>top</td>\n",
       "      <td>Gangplank</td>\n",
       "      <td>2114</td>\n",
       "      <td>True</td>\n",
       "      <td>1.0</td>\n",
       "      <td>0.0</td>\n",
       "      <td>1.0</td>\n",
       "      <td>6157.0</td>\n",
       "      <td>7672.0</td>\n",
       "      <td>140.0</td>\n",
       "      <td>1484.0</td>\n",
       "      <td>652.0</td>\n",
       "      <td>30.0</td>\n",
       "      <td>True</td>\n",
       "    </tr>\n",
       "    <tr>\n",
       "      <th>36</th>\n",
       "      <td>ESPORTSTMNT01_2690227</td>\n",
       "      <td>True</td>\n",
       "      <td>False</td>\n",
       "      <td>Blue</td>\n",
       "      <td>top</td>\n",
       "      <td>Renekton</td>\n",
       "      <td>1972</td>\n",
       "      <td>True</td>\n",
       "      <td>2.0</td>\n",
       "      <td>0.0</td>\n",
       "      <td>0.0</td>\n",
       "      <td>5856.0</td>\n",
       "      <td>7759.0</td>\n",
       "      <td>146.0</td>\n",
       "      <td>904.0</td>\n",
       "      <td>85.0</td>\n",
       "      <td>4.0</td>\n",
       "      <td>True</td>\n",
       "    </tr>\n",
       "    <tr>\n",
       "      <th>...</th>\n",
       "      <td>...</td>\n",
       "      <td>...</td>\n",
       "      <td>...</td>\n",
       "      <td>...</td>\n",
       "      <td>...</td>\n",
       "      <td>...</td>\n",
       "      <td>...</td>\n",
       "      <td>...</td>\n",
       "      <td>...</td>\n",
       "      <td>...</td>\n",
       "      <td>...</td>\n",
       "      <td>...</td>\n",
       "      <td>...</td>\n",
       "      <td>...</td>\n",
       "      <td>...</td>\n",
       "      <td>...</td>\n",
       "      <td>...</td>\n",
       "      <td>...</td>\n",
       "    </tr>\n",
       "    <tr>\n",
       "      <th>149105</th>\n",
       "      <td>ESPORTSTMNT01_3268686</td>\n",
       "      <td>True</td>\n",
       "      <td>False</td>\n",
       "      <td>Red</td>\n",
       "      <td>top</td>\n",
       "      <td>K'Sante</td>\n",
       "      <td>2325</td>\n",
       "      <td>True</td>\n",
       "      <td>0.0</td>\n",
       "      <td>1.0</td>\n",
       "      <td>2.0</td>\n",
       "      <td>4782.0</td>\n",
       "      <td>7650.0</td>\n",
       "      <td>122.0</td>\n",
       "      <td>-801.0</td>\n",
       "      <td>829.0</td>\n",
       "      <td>11.0</td>\n",
       "      <td>True</td>\n",
       "    </tr>\n",
       "    <tr>\n",
       "      <th>149112</th>\n",
       "      <td>ESPORTSTMNT01_3269631</td>\n",
       "      <td>True</td>\n",
       "      <td>False</td>\n",
       "      <td>Blue</td>\n",
       "      <td>top</td>\n",
       "      <td>Fiora</td>\n",
       "      <td>2076</td>\n",
       "      <td>True</td>\n",
       "      <td>2.0</td>\n",
       "      <td>1.0</td>\n",
       "      <td>1.0</td>\n",
       "      <td>7262.0</td>\n",
       "      <td>8025.0</td>\n",
       "      <td>137.0</td>\n",
       "      <td>2728.0</td>\n",
       "      <td>1467.0</td>\n",
       "      <td>32.0</td>\n",
       "      <td>True</td>\n",
       "    </tr>\n",
       "    <tr>\n",
       "      <th>149117</th>\n",
       "      <td>ESPORTSTMNT01_3269631</td>\n",
       "      <td>True</td>\n",
       "      <td>False</td>\n",
       "      <td>Red</td>\n",
       "      <td>top</td>\n",
       "      <td>K'Sante</td>\n",
       "      <td>2076</td>\n",
       "      <td>False</td>\n",
       "      <td>0.0</td>\n",
       "      <td>1.0</td>\n",
       "      <td>3.0</td>\n",
       "      <td>4534.0</td>\n",
       "      <td>6558.0</td>\n",
       "      <td>105.0</td>\n",
       "      <td>-2728.0</td>\n",
       "      <td>-1467.0</td>\n",
       "      <td>-32.0</td>\n",
       "      <td>False</td>\n",
       "    </tr>\n",
       "    <tr>\n",
       "      <th>149124</th>\n",
       "      <td>ESPORTSTMNT01_3268705</td>\n",
       "      <td>True</td>\n",
       "      <td>False</td>\n",
       "      <td>Blue</td>\n",
       "      <td>top</td>\n",
       "      <td>Gangplank</td>\n",
       "      <td>1680</td>\n",
       "      <td>True</td>\n",
       "      <td>2.0</td>\n",
       "      <td>1.0</td>\n",
       "      <td>2.0</td>\n",
       "      <td>6485.0</td>\n",
       "      <td>7618.0</td>\n",
       "      <td>123.0</td>\n",
       "      <td>1537.0</td>\n",
       "      <td>645.0</td>\n",
       "      <td>15.0</td>\n",
       "      <td>True</td>\n",
       "    </tr>\n",
       "    <tr>\n",
       "      <th>149129</th>\n",
       "      <td>ESPORTSTMNT01_3268705</td>\n",
       "      <td>True</td>\n",
       "      <td>False</td>\n",
       "      <td>Red</td>\n",
       "      <td>top</td>\n",
       "      <td>K'Sante</td>\n",
       "      <td>1680</td>\n",
       "      <td>False</td>\n",
       "      <td>2.0</td>\n",
       "      <td>0.0</td>\n",
       "      <td>1.0</td>\n",
       "      <td>4948.0</td>\n",
       "      <td>6973.0</td>\n",
       "      <td>108.0</td>\n",
       "      <td>-1537.0</td>\n",
       "      <td>-645.0</td>\n",
       "      <td>-15.0</td>\n",
       "      <td>False</td>\n",
       "    </tr>\n",
       "  </tbody>\n",
       "</table>\n",
       "<p>21160 rows × 18 columns</p>\n",
       "</div>"
      ],
      "text/plain": [
       "                       gameid  datacompleteness  playoffs  side position  \\\n",
       "0       ESPORTSTMNT01_2690210              True     False  Blue      top   \n",
       "5       ESPORTSTMNT01_2690210              True     False   Red      top   \n",
       "12      ESPORTSTMNT01_2690219              True     False  Blue      top   \n",
       "17      ESPORTSTMNT01_2690219              True     False   Red      top   \n",
       "36      ESPORTSTMNT01_2690227              True     False  Blue      top   \n",
       "...                       ...               ...       ...   ...      ...   \n",
       "149105  ESPORTSTMNT01_3268686              True     False   Red      top   \n",
       "149112  ESPORTSTMNT01_3269631              True     False  Blue      top   \n",
       "149117  ESPORTSTMNT01_3269631              True     False   Red      top   \n",
       "149124  ESPORTSTMNT01_3268705              True     False  Blue      top   \n",
       "149129  ESPORTSTMNT01_3268705              True     False   Red      top   \n",
       "\n",
       "         champion  gamelength  result  killsat15  assistsat15  deathsat15  \\\n",
       "0        Renekton        1713   False        0.0          1.0         0.0   \n",
       "5          Gragas        1713    True        0.0          1.0         0.0   \n",
       "12         Gragas        2114   False        0.0          1.0         1.0   \n",
       "17      Gangplank        2114    True        1.0          0.0         1.0   \n",
       "36       Renekton        1972    True        2.0          0.0         0.0   \n",
       "...           ...         ...     ...        ...          ...         ...   \n",
       "149105    K'Sante        2325    True        0.0          1.0         2.0   \n",
       "149112      Fiora        2076    True        2.0          1.0         1.0   \n",
       "149117    K'Sante        2076   False        0.0          1.0         3.0   \n",
       "149124  Gangplank        1680    True        2.0          1.0         2.0   \n",
       "149129    K'Sante        1680   False        2.0          0.0         1.0   \n",
       "\n",
       "        goldat15  xpat15  csat15  golddiffat15  xpdiffat15  csdiffat15 winlane  \n",
       "0         5025.0  7560.0   135.0         391.0       345.0        14.0    True  \n",
       "5         4634.0  7215.0   121.0        -391.0      -345.0       -14.0   False  \n",
       "12        4673.0  7020.0   110.0       -1484.0      -652.0       -30.0   False  \n",
       "17        6157.0  7672.0   140.0        1484.0       652.0        30.0    True  \n",
       "36        5856.0  7759.0   146.0         904.0        85.0         4.0    True  \n",
       "...          ...     ...     ...           ...         ...         ...     ...  \n",
       "149105    4782.0  7650.0   122.0        -801.0       829.0        11.0    True  \n",
       "149112    7262.0  8025.0   137.0        2728.0      1467.0        32.0    True  \n",
       "149117    4534.0  6558.0   105.0       -2728.0     -1467.0       -32.0   False  \n",
       "149124    6485.0  7618.0   123.0        1537.0       645.0        15.0    True  \n",
       "149129    4948.0  6973.0   108.0       -1537.0      -645.0       -15.0   False  \n",
       "\n",
       "[21160 rows x 18 columns]"
      ]
     },
     "execution_count": 26,
     "metadata": {},
     "output_type": "execute_result"
    }
   ],
   "source": [
    "perm_df = df[~df['winlane'].isna()]\n",
    "perm_df"
   ]
  },
  {
   "cell_type": "code",
   "execution_count": 29,
   "metadata": {},
   "outputs": [
    {
     "data": {
      "text/plain": [
       "0.39754253308128545"
      ]
     },
     "execution_count": 29,
     "metadata": {},
     "output_type": "execute_result"
    }
   ],
   "source": [
    "perm_df[perm_df['winlane'] == False]['result'].mean()"
   ]
  },
  {
   "cell_type": "code",
   "execution_count": 38,
   "metadata": {},
   "outputs": [
    {
     "data": {
      "text/plain": [
       "0.0"
      ]
     },
     "execution_count": 38,
     "metadata": {},
     "output_type": "execute_result"
    }
   ],
   "source": [
    "#Performing a permutation test using diff of means as test statistic\n",
    "def test_stat(df):\n",
    "    return df[df['winlane'] == True]['result'].mean() - df[df['winlane'] == False]['result'].mean()\n",
    "\n",
    "def simulate_stat(df):\n",
    "    shuffed_df = df.assign(winlane = np.random.permutation(df['winlane']))\n",
    "    return test_stat(shuffed_df)\n",
    "\n",
    "observed_stat = test_stat(perm_df)\n",
    "\n",
    "simulated_stats = []\n",
    "for i in range(10_000):\n",
    "    simulated_stats.append(simulate_stat(perm_df))\n",
    "\n",
    "np.mean(np.array(simulated_stats) > observed_stat)"
   ]
  },
  {
   "cell_type": "code",
   "execution_count": null,
   "metadata": {},
   "outputs": [],
   "source": [
    "###Cleaned up code for permutation test\n",
    "#Function to assign which top laner in a game had the advantage.\n",
    "    #Assign True if the top laner had the advantage, False if at disadvantage\n",
    "    #Assign np.NaN if neither player had advantage\n",
    "def winning_top(df):\n",
    "    if df['xpdiffat15'] > 0:\n",
    "        return True\n",
    "    elif df['xpdiffat15'] < 0:\n",
    "        return False\n",
    "    return np.NaN\n",
    "\n",
    "#Create df with column based on winning or losing top lane\n",
    "winlane_df = (filtered_df\n",
    "      .assign(winlane = filtered_df.apply(winning_top, axis=1))\n",
    "     )\n",
    "#Remove rows with no decisive winning lane\n",
    "perm_df = df[~df['winlane'].isna()]\n",
    "perm_df\n",
    "\n",
    "#Function to calculate test statistic given dataframe\n",
    "    #Uses diff of means\n",
    "    #Proportion of team win for winning top lanes - proportion of team lose for losing top lanes\n",
    "def test_stat(df):\n",
    "    return df[df['winlane'] == True]['result'].mean() - df[df['winlane'] == False]['result'].mean()\n",
    "\n",
    "#Function to shuffle the winlane column and return a new test_stat\n",
    "def simulate_stat(df):\n",
    "    shuffed_df = df.assign(winlane = np.random.permutation(df['winlane']))\n",
    "    return test_stat(shuffed_df)\n",
    "\n",
    "#Calculate observed statistic, the test stat based on the unshuffled column\n",
    "observed_stat = test_stat(perm_df)\n",
    "\n",
    "#simulate 10,000 stats and calculate a significance value\n",
    "simulated_stats = []\n",
    "for i in range(10_000):\n",
    "    simulated_stats.append(simulate_stat(perm_df))\n",
    "\n",
    "np.mean(np.array(simulated_stats) > observed_stat)"
   ]
  }
 ],
 "metadata": {
  "kernelspec": {
   "display_name": "Python 3 (ipykernel)",
   "language": "python",
   "name": "python3"
  },
  "language_info": {
   "codemirror_mode": {
    "name": "ipython",
    "version": 3
   },
   "file_extension": ".py",
   "mimetype": "text/x-python",
   "name": "python",
   "nbconvert_exporter": "python",
   "pygments_lexer": "ipython3",
   "version": "3.8.18"
  }
 },
 "nbformat": 4,
 "nbformat_minor": 2
}
